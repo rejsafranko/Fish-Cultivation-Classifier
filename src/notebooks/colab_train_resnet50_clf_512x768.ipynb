{
  "cells": [
    {
      "cell_type": "markdown",
      "source": [
        "Environment setup."
      ],
      "metadata": {
        "id": "xMM_s8QADJxu"
      }
    },
    {
      "cell_type": "code",
      "source": [
        "!pip install datasets"
      ],
      "metadata": {
        "id": "03TrKiPhDMhJ"
      },
      "execution_count": null,
      "outputs": []
    },
    {
      "cell_type": "code",
      "execution_count": null,
      "metadata": {
        "id": "m5NRQtNQ6HYK"
      },
      "outputs": [],
      "source": [
        "from google.colab import drive\n",
        "drive.mount('/content/drive')"
      ]
    },
    {
      "cell_type": "code",
      "source": [
        "colab_data_path = \"/content/drive/MyDrive/Seminar2/data/ribe_512x768/\"\n",
        "colab_dir = \"/content/drive/MyDrive/Seminar2/model/\"\n",
        "model_name_or_path = \"google/vit-base-patch16-224-in21k\""
      ],
      "metadata": {
        "id": "s6KexM4vEIJs"
      },
      "execution_count": 4,
      "outputs": []
    },
    {
      "cell_type": "markdown",
      "source": [
        "Imports."
      ],
      "metadata": {
        "id": "qr50xDfvECzZ"
      }
    },
    {
      "cell_type": "code",
      "execution_count": 2,
      "metadata": {
        "id": "x9Y2qv9e6ZrG"
      },
      "outputs": [],
      "source": [
        "import tensorflow as tf\n",
        "from tensorflow.keras.applications.resnet50 import ResNet50\n",
        "from tensorflow.keras.optimizers import *\n",
        "from tensorflow.keras.losses import *\n",
        "from tensorflow.keras.layers import *\n",
        "from tensorflow.keras.models import *\n",
        "from tensorflow.keras.callbacks import *\n",
        "from tensorflow.keras.preprocessing.image import *\n",
        "from tensorflow.keras.utils import *\n",
        "from tensorflow.keras import * \n",
        "from sklearn.model_selection import train_test_split\n",
        "from torchvision import transforms\n",
        "from datasets import load_dataset, concatenate_datasets\n",
        "import numpy as np\n",
        "from sklearn import metrics"
      ]
    },
    {
      "cell_type": "markdown",
      "source": [
        "Using Huggingface datasets library to prepare the dataset splits."
      ],
      "metadata": {
        "id": "XHA-wMioopRl"
      }
    },
    {
      "cell_type": "code",
      "source": [
        "dataset = load_dataset(\"imagefolder\", data_dir=colab_data_path)\n",
        "splits = dataset[\"train\"].train_test_split(test_size=0.33)\n",
        "dataset[\"train\"] = splits[\"train\"]\n",
        "dataset[\"val\"] = splits[\"test\"]"
      ],
      "metadata": {
        "id": "7Hv63f78C6m1"
      },
      "execution_count": null,
      "outputs": []
    },
    {
      "cell_type": "markdown",
      "source": [
        "Define image augmentations."
      ],
      "metadata": {
        "id": "mP773Vy_EXgW"
      }
    },
    {
      "cell_type": "code",
      "source": [
        "transform = transforms.Compose([\n",
        "    transforms.RandomHorizontalFlip(),\n",
        "    transforms.RandomVerticalFlip(),\n",
        "    transforms.ColorJitter(brightness=0.4, contrast=0.4, saturation=0.4, hue=0.1),\n",
        "    transforms.RandomRotation(30),\n",
        "    transforms.RandomAffine(degrees=0, translate=(0.1, 0.1), scale=(0.8, 1.2)),\n",
        "])"
      ],
      "metadata": {
        "id": "_tiiiyt8EZCx"
      },
      "execution_count": 6,
      "outputs": []
    },
    {
      "cell_type": "markdown",
      "source": [
        "Apply the transforms to the train set. Concatenate the transformed and original train set."
      ],
      "metadata": {
        "id": "tCDh8-_dEfDA"
      }
    },
    {
      "cell_type": "code",
      "source": [
        "transformed_train_dataset = dataset[\"train\"].map(\n",
        "    lambda example: {\"image\": transform(example[\"image\"]), \"label\": example[\"label\"]}\n",
        ")\n",
        "\n",
        "dataset[\"train\"] = concatenate_datasets([transformed_train_dataset, dataset[\"train\"]])"
      ],
      "metadata": {
        "colab": {
          "base_uri": "https://localhost:8080/",
          "height": 17,
          "referenced_widgets": [
            "3375fec1b5954feda7b9587082be5f2c",
            "210360031e4149c88c658b0cfa2da3a1",
            "b3f87fe76b5644b0bba436f195ed0356",
            "e9928b40cdfe43638524ec4c97a3281c",
            "807a89f135c740849fdf6f1ed2bc8206",
            "19b869736a5c462ab86fc6079b61e0e7",
            "515823f770ac40ff88247240e484a742",
            "afc16840cd6a4dd5acd9ed1aef40e074",
            "6501b864c18248029e4f986209b516ed",
            "9ab698b370c84d4f82d1a405f5459bea",
            "c60b204390174326b638ce0aed167731"
          ]
        },
        "id": "CteIBw6bEfnt",
        "outputId": "14305a03-2ab1-4952-e967-1012861a14ab"
      },
      "execution_count": 7,
      "outputs": [
        {
          "output_type": "display_data",
          "data": {
            "text/plain": [
              "Map:   0%|          | 0/892 [00:00<?, ? examples/s]"
            ],
            "application/vnd.jupyter.widget-view+json": {
              "version_major": 2,
              "version_minor": 0,
              "model_id": "3375fec1b5954feda7b9587082be5f2c"
            }
          },
          "metadata": {}
        }
      ]
    },
    {
      "cell_type": "markdown",
      "source": [
        "Convert the dataset to a format suitable for Keras ResNet50."
      ],
      "metadata": {
        "id": "CtR0lBXwGAou"
      }
    },
    {
      "cell_type": "code",
      "source": [
        "X_train = np.array(dataset[\"train\"][\"image\"])\n",
        "X_train = np.array([tf.convert_to_tensor(np.array(image)) for image in X_train])\n",
        "y_train = to_categorical(np.array(dataset[\"train\"][\"label\"]), num_classes=3)\n",
        "\n",
        "X_valid = np.array(dataset[\"val\"][\"image\"])\n",
        "X_valid = np.array([tf.convert_to_tensor(np.array(image)) for image in X_valid])\n",
        "y_valid = to_categorical(np.array(dataset[\"val\"][\"label\"]), num_classes=3)\n",
        "\n",
        "X_test = np.array(dataset[\"test\"][\"image\"])\n",
        "X_test = np.array([tf.convert_to_tensor(np.array(image)) for image in X_test])\n",
        "y_test = to_categorical(np.array(dataset[\"test\"][\"label\"]), num_classes=3)"
      ],
      "metadata": {
        "id": "ItAiYOUbpBmm"
      },
      "execution_count": null,
      "outputs": []
    },
    {
      "cell_type": "markdown",
      "source": [
        "Free unused variables."
      ],
      "metadata": {
        "id": "5HY-Yy1BGQO-"
      }
    },
    {
      "cell_type": "code",
      "source": [
        "del dataset\n",
        "del splits\n",
        "del transformed_train_dataset"
      ],
      "metadata": {
        "id": "iXOugwogGTye"
      },
      "execution_count": 28,
      "outputs": []
    },
    {
      "cell_type": "markdown",
      "metadata": {
        "id": "vgDYVEDYgBCM"
      },
      "source": [
        "Build the base model."
      ]
    },
    {
      "cell_type": "code",
      "execution_count": 29,
      "metadata": {
        "colab": {
          "base_uri": "https://localhost:8080/"
        },
        "id": "VzTPbl-_7X4u",
        "outputId": "66392fdc-5cc6-4b61-98a7-dafaaa3d43e5"
      },
      "outputs": [
        {
          "output_type": "stream",
          "name": "stdout",
          "text": [
            "Model: \"sequential_1\"\n",
            "_________________________________________________________________\n",
            " Layer (type)                Output Shape              Param #   \n",
            "=================================================================\n",
            " resnet50 (Functional)       (None, 16, 24, 2048)      23587712  \n",
            "                                                                 \n",
            " flatten_1 (Flatten)         (None, 786432)            0         \n",
            "                                                                 \n",
            " batch_normalization_2 (Batc  (None, 786432)           3145728   \n",
            " hNormalization)                                                 \n",
            "                                                                 \n",
            " dense_2 (Dense)             (None, 256)               201326848 \n",
            "                                                                 \n",
            " batch_normalization_3 (Batc  (None, 256)              1024      \n",
            " hNormalization)                                                 \n",
            "                                                                 \n",
            " activation_1 (Activation)   (None, 256)               0         \n",
            "                                                                 \n",
            " dropout_1 (Dropout)         (None, 256)               0         \n",
            "                                                                 \n",
            " dense_3 (Dense)             (None, 3)                 771       \n",
            "                                                                 \n",
            "=================================================================\n",
            "Total params: 228,062,083\n",
            "Trainable params: 202,900,995\n",
            "Non-trainable params: 25,161,088\n",
            "_________________________________________________________________\n"
          ]
        }
      ],
      "source": [
        "base_model= ResNet50(input_shape=(512,768,3), weights='imagenet', include_top=False)\n",
        "model=Sequential()\n",
        "model.add(base_model)\n",
        "model.add(Flatten())\n",
        "model.add(BatchNormalization())\n",
        "model.add(Dense(256,kernel_initializer='he_uniform', kernel_regularizer=regularizers.l2(0.001)))\n",
        "model.add(BatchNormalization())\n",
        "model.add(Activation('relu'))\n",
        "model.add(Dropout(0.5))\n",
        "model.add(Dense(3, activation='softmax', kernel_regularizer=regularizers.l2(0.001)))\n",
        "\n",
        "for layer in base_model.layers:\n",
        "    layer.trainable = False\n",
        "\n",
        "model.compile(\n",
        "    loss='categorical_crossentropy',\n",
        "    optimizer='adam',\n",
        "    metrics=['accuracy'],\n",
        ")\n",
        "\n",
        "model.summary()"
      ]
    },
    {
      "cell_type": "markdown",
      "metadata": {
        "id": "UhdrqaaUgBCO"
      },
      "source": [
        "Configure callbacks."
      ]
    },
    {
      "cell_type": "code",
      "execution_count": 30,
      "metadata": {
        "id": "4wU5a93xAQxK"
      },
      "outputs": [],
      "source": [
        "checkpoint_callback = tf.keras.callbacks.ModelCheckpoint(\n",
        "    filepath='/content/drive/MyDrive/Seminar2/resnet50/',\n",
        "    monitor='val_accuracy',\n",
        "    save_best_only=True,\n",
        "    verbose=1\n",
        ")\n",
        "\n",
        "es = EarlyStopping(\n",
        "    monitor='val_accuracy', \n",
        "    mode='max',\n",
        "    patience=6\n",
        ")"
      ]
    },
    {
      "cell_type": "markdown",
      "metadata": {
        "id": "Dyejec8agBCQ"
      },
      "source": [
        "Train the model."
      ]
    },
    {
      "cell_type": "code",
      "execution_count": 31,
      "metadata": {
        "colab": {
          "base_uri": "https://localhost:8080/"
        },
        "id": "5JsP4hBg9Yk8",
        "outputId": "e1a62709-099d-47f8-9f33-d34f2cb5b61e"
      },
      "outputs": [
        {
          "output_type": "stream",
          "name": "stdout",
          "text": [
            "Epoch 1/30\n",
            "49/50 [============================>.] - ETA: 0s - loss: 4.5788 - accuracy: 0.5153\n",
            "Epoch 1: val_accuracy improved from -inf to 0.90000, saving model to /content/drive/MyDrive/Seminar2/resnet50/\n"
          ]
        },
        {
          "output_type": "stream",
          "name": "stderr",
          "text": [
            "WARNING:absl:Found untraced functions such as _jit_compiled_convolution_op, _jit_compiled_convolution_op, _jit_compiled_convolution_op, _jit_compiled_convolution_op, _jit_compiled_convolution_op while saving (showing 5 of 53). These functions will not be directly callable after loading.\n"
          ]
        },
        {
          "output_type": "stream",
          "name": "stdout",
          "text": [
            "\b\b\b\b\b\b\b\b\b\b\b\b\b\b\b\b\b\b\b\b\b\b\b\b\b\b\b\b\b\b\b\b\b\b\b\b\b\b\b\b\b\b\b\b\b\b\b\b\b\b\b\b\b\b\b\b\b\b\b\b\b\b\b\b\b\b\b\b\b\b\b\b\b\b\b\b\b\b\b\b\b\b\r50/50 [==============================] - 50s 742ms/step - loss: 4.6049 - accuracy: 0.5150 - val_loss: 5.3237 - val_accuracy: 0.9000\n",
            "Epoch 2/30\n",
            "50/50 [==============================] - ETA: 0s - loss: 5.9200 - accuracy: 0.6050\n",
            "Epoch 2: val_accuracy improved from 0.90000 to 0.94000, saving model to /content/drive/MyDrive/Seminar2/resnet50/\n"
          ]
        },
        {
          "output_type": "stream",
          "name": "stderr",
          "text": [
            "WARNING:absl:Found untraced functions such as _jit_compiled_convolution_op, _jit_compiled_convolution_op, _jit_compiled_convolution_op, _jit_compiled_convolution_op, _jit_compiled_convolution_op while saving (showing 5 of 53). These functions will not be directly callable after loading.\n"
          ]
        },
        {
          "output_type": "stream",
          "name": "stdout",
          "text": [
            "\b\b\b\b\b\b\b\b\b\b\b\b\b\b\b\b\b\b\b\b\b\b\b\b\b\b\b\b\b\b\b\b\b\b\b\b\b\b\b\b\b\b\b\b\b\b\b\b\b\b\b\b\b\b\b\b\b\b\b\b\b\b\b\b\b\b\b\b\b\b\b\b\b\b\b\b\b\b\b\b\b\b\r50/50 [==============================] - 34s 685ms/step - loss: 5.9200 - accuracy: 0.6050 - val_loss: 5.0961 - val_accuracy: 0.9400\n",
            "Epoch 3/30\n",
            "50/50 [==============================] - ETA: 0s - loss: 5.5436 - accuracy: 0.6950\n",
            "Epoch 3: val_accuracy improved from 0.94000 to 0.95000, saving model to /content/drive/MyDrive/Seminar2/resnet50/\n"
          ]
        },
        {
          "output_type": "stream",
          "name": "stderr",
          "text": [
            "WARNING:absl:Found untraced functions such as _jit_compiled_convolution_op, _jit_compiled_convolution_op, _jit_compiled_convolution_op, _jit_compiled_convolution_op, _jit_compiled_convolution_op while saving (showing 5 of 53). These functions will not be directly callable after loading.\n"
          ]
        },
        {
          "output_type": "stream",
          "name": "stdout",
          "text": [
            "\b\b\b\b\b\b\b\b\b\b\b\b\b\b\b\b\b\b\b\b\b\b\b\b\b\b\b\b\b\b\b\b\b\b\b\b\b\b\b\b\b\b\b\b\b\b\b\b\b\b\b\b\b\b\b\b\b\b\b\b\b\b\b\b\b\b\b\b\b\b\b\b\b\b\b\b\b\b\b\b\b\b\r50/50 [==============================] - 34s 692ms/step - loss: 5.5436 - accuracy: 0.6950 - val_loss: 5.0272 - val_accuracy: 0.9500\n",
            "Epoch 4/30\n",
            "50/50 [==============================] - ETA: 0s - loss: 5.8472 - accuracy: 0.6450\n",
            "Epoch 4: val_accuracy did not improve from 0.95000\n",
            "50/50 [==============================] - 2s 34ms/step - loss: 5.8472 - accuracy: 0.6450 - val_loss: 5.3663 - val_accuracy: 0.9400\n",
            "Epoch 5/30\n",
            "49/50 [============================>.] - ETA: 0s - loss: 6.3551 - accuracy: 0.6224\n",
            "Epoch 5: val_accuracy did not improve from 0.95000\n",
            "50/50 [==============================] - 2s 34ms/step - loss: 6.3523 - accuracy: 0.6200 - val_loss: 5.4119 - val_accuracy: 0.9300\n",
            "Epoch 6/30\n",
            "50/50 [==============================] - ETA: 0s - loss: 5.7687 - accuracy: 0.6700\n",
            "Epoch 6: val_accuracy did not improve from 0.95000\n",
            "50/50 [==============================] - 2s 34ms/step - loss: 5.7687 - accuracy: 0.6700 - val_loss: 4.7211 - val_accuracy: 0.9300\n",
            "Epoch 7/30\n",
            "49/50 [============================>.] - ETA: 0s - loss: 5.7200 - accuracy: 0.5714\n",
            "Epoch 7: val_accuracy improved from 0.95000 to 0.96000, saving model to /content/drive/MyDrive/Seminar2/resnet50/\n"
          ]
        },
        {
          "output_type": "stream",
          "name": "stderr",
          "text": [
            "WARNING:absl:Found untraced functions such as _jit_compiled_convolution_op, _jit_compiled_convolution_op, _jit_compiled_convolution_op, _jit_compiled_convolution_op, _jit_compiled_convolution_op while saving (showing 5 of 53). These functions will not be directly callable after loading.\n"
          ]
        },
        {
          "output_type": "stream",
          "name": "stdout",
          "text": [
            "\b\b\b\b\b\b\b\b\b\b\b\b\b\b\b\b\b\b\b\b\b\b\b\b\b\b\b\b\b\b\b\b\b\b\b\b\b\b\b\b\b\b\b\b\b\b\b\b\b\b\b\b\b\b\b\b\b\b\b\b\b\b\b\b\b\b\b\b\b\b\b\b\b\b\b\b\b\b\b\b\b\b\r50/50 [==============================] - 33s 676ms/step - loss: 5.7377 - accuracy: 0.5650 - val_loss: 5.4878 - val_accuracy: 0.9600\n",
            "Epoch 8/30\n",
            "49/50 [============================>.] - ETA: 0s - loss: 6.3036 - accuracy: 0.6429\n",
            "Epoch 8: val_accuracy did not improve from 0.96000\n",
            "50/50 [==============================] - 2s 34ms/step - loss: 6.2963 - accuracy: 0.6400 - val_loss: 5.1308 - val_accuracy: 0.9600\n",
            "Epoch 9/30\n",
            "50/50 [==============================] - ETA: 0s - loss: 5.7948 - accuracy: 0.6550\n",
            "Epoch 9: val_accuracy improved from 0.96000 to 0.97000, saving model to /content/drive/MyDrive/Seminar2/resnet50/\n"
          ]
        },
        {
          "output_type": "stream",
          "name": "stderr",
          "text": [
            "WARNING:absl:Found untraced functions such as _jit_compiled_convolution_op, _jit_compiled_convolution_op, _jit_compiled_convolution_op, _jit_compiled_convolution_op, _jit_compiled_convolution_op while saving (showing 5 of 53). These functions will not be directly callable after loading.\n"
          ]
        },
        {
          "output_type": "stream",
          "name": "stdout",
          "text": [
            "\b\b\b\b\b\b\b\b\b\b\b\b\b\b\b\b\b\b\b\b\b\b\b\b\b\b\b\b\b\b\b\b\b\b\b\b\b\b\b\b\b\b\b\b\b\b\b\b\b\b\b\b\b\b\b\b\b\b\b\b\b\b\b\b\b\b\b\b\b\b\b\b\b\b\b\b\b\b\b\b\b\b\r50/50 [==============================] - 32s 649ms/step - loss: 5.7948 - accuracy: 0.6550 - val_loss: 5.1274 - val_accuracy: 0.9700\n",
            "Epoch 10/30\n",
            "50/50 [==============================] - ETA: 0s - loss: 5.2902 - accuracy: 0.6900\n",
            "Epoch 10: val_accuracy did not improve from 0.97000\n",
            "50/50 [==============================] - 2s 34ms/step - loss: 5.2902 - accuracy: 0.6900 - val_loss: 4.6143 - val_accuracy: 0.9700\n",
            "Epoch 11/30\n",
            "49/50 [============================>.] - ETA: 0s - loss: 4.9563 - accuracy: 0.7500\n",
            "Epoch 11: val_accuracy did not improve from 0.97000\n",
            "50/50 [==============================] - 2s 34ms/step - loss: 4.9654 - accuracy: 0.7400 - val_loss: 4.4367 - val_accuracy: 0.9400\n",
            "Epoch 12/30\n",
            "50/50 [==============================] - ETA: 0s - loss: 5.4379 - accuracy: 0.6550\n",
            "Epoch 12: val_accuracy did not improve from 0.97000\n",
            "50/50 [==============================] - 2s 34ms/step - loss: 5.4379 - accuracy: 0.6550 - val_loss: 5.0866 - val_accuracy: 0.9600\n",
            "Epoch 13/30\n",
            "49/50 [============================>.] - ETA: 0s - loss: 5.9203 - accuracy: 0.6582\n",
            "Epoch 13: val_accuracy did not improve from 0.97000\n",
            "50/50 [==============================] - 2s 34ms/step - loss: 5.8993 - accuracy: 0.6650 - val_loss: 4.9524 - val_accuracy: 0.9400\n",
            "Epoch 14/30\n",
            "49/50 [============================>.] - ETA: 0s - loss: 5.5576 - accuracy: 0.6582\n",
            "Epoch 14: val_accuracy improved from 0.97000 to 0.98000, saving model to /content/drive/MyDrive/Seminar2/resnet50/\n"
          ]
        },
        {
          "output_type": "stream",
          "name": "stderr",
          "text": [
            "WARNING:absl:Found untraced functions such as _jit_compiled_convolution_op, _jit_compiled_convolution_op, _jit_compiled_convolution_op, _jit_compiled_convolution_op, _jit_compiled_convolution_op while saving (showing 5 of 53). These functions will not be directly callable after loading.\n"
          ]
        },
        {
          "output_type": "stream",
          "name": "stdout",
          "text": [
            "\b\b\b\b\b\b\b\b\b\b\b\b\b\b\b\b\b\b\b\b\b\b\b\b\b\b\b\b\b\b\b\b\b\b\b\b\b\b\b\b\b\b\b\b\b\b\b\b\b\b\b\b\b\b\b\b\b\b\b\b\b\b\b\b\b\b\b\b\b\b\b\b\b\b\b\b\b\b\b\b\b\b\r50/50 [==============================] - 34s 697ms/step - loss: 5.5492 - accuracy: 0.6600 - val_loss: 4.8917 - val_accuracy: 0.9800\n",
            "Epoch 15/30\n",
            "49/50 [============================>.] - ETA: 0s - loss: 5.6387 - accuracy: 0.5918\n",
            "Epoch 15: val_accuracy did not improve from 0.98000\n",
            "50/50 [==============================] - 2s 35ms/step - loss: 5.6335 - accuracy: 0.5950 - val_loss: 4.8399 - val_accuracy: 0.9500\n",
            "Epoch 16/30\n",
            "49/50 [============================>.] - ETA: 0s - loss: 5.4025 - accuracy: 0.6684\n",
            "Epoch 16: val_accuracy did not improve from 0.98000\n",
            "50/50 [==============================] - 2s 36ms/step - loss: 5.3990 - accuracy: 0.6700 - val_loss: 4.7454 - val_accuracy: 0.9800\n",
            "Epoch 17/30\n",
            "49/50 [============================>.] - ETA: 0s - loss: 5.2206 - accuracy: 0.7041\n",
            "Epoch 17: val_accuracy did not improve from 0.98000\n",
            "50/50 [==============================] - 2s 35ms/step - loss: 5.2279 - accuracy: 0.7000 - val_loss: 4.4881 - val_accuracy: 0.9700\n",
            "Epoch 18/30\n",
            "49/50 [============================>.] - ETA: 0s - loss: 4.9573 - accuracy: 0.6633\n",
            "Epoch 18: val_accuracy did not improve from 0.98000\n",
            "50/50 [==============================] - 2s 35ms/step - loss: 4.9571 - accuracy: 0.6650 - val_loss: 4.7719 - val_accuracy: 0.9100\n",
            "Epoch 19/30\n",
            "49/50 [============================>.] - ETA: 0s - loss: 4.9920 - accuracy: 0.7194\n",
            "Epoch 19: val_accuracy did not improve from 0.98000\n",
            "50/50 [==============================] - 2s 35ms/step - loss: 4.9938 - accuracy: 0.7050 - val_loss: 4.1783 - val_accuracy: 0.9300\n",
            "Epoch 20/30\n",
            "49/50 [============================>.] - ETA: 0s - loss: 5.0947 - accuracy: 0.6071\n",
            "Epoch 20: val_accuracy did not improve from 0.98000\n",
            "50/50 [==============================] - 2s 35ms/step - loss: 5.0913 - accuracy: 0.6100 - val_loss: 4.5989 - val_accuracy: 0.9600\n"
          ]
        },
        {
          "output_type": "execute_result",
          "data": {
            "text/plain": [
              "<keras.callbacks.History at 0x7f25f14010c0>"
            ]
          },
          "metadata": {},
          "execution_count": 31
        }
      ],
      "source": [
        "model.fit(\n",
        "    x=X_train,\n",
        "    y=y_train,\n",
        "    batch_size=4,\n",
        "    steps_per_epoch=50,\n",
        "    epochs=30,\n",
        "    validation_data=(X_valid, y_valid),\n",
        "    validation_steps=25,\n",
        "    callbacks=[es, checkpoint_callback],\n",
        "    verbose=1\n",
        ")"
      ]
    },
    {
      "cell_type": "code",
      "source": [
        "from sklearn import metrics\n",
        "\n",
        "predictions = model.predict(X_test, verbose=True)\n",
        "predictions = np.where(predictions > .5, 1, 0)\n",
        "print(metrics.classification_report(y_test, predictions))"
      ],
      "metadata": {
        "id": "jnq7_MGvpgZc",
        "colab": {
          "base_uri": "https://localhost:8080/"
        },
        "outputId": "e378a6ac-73fc-40db-966b-b11dc0f2a04f"
      },
      "execution_count": 32,
      "outputs": [
        {
          "output_type": "stream",
          "name": "stdout",
          "text": [
            "45/45 [==============================] - 9s 129ms/step\n",
            "              precision    recall  f1-score   support\n",
            "\n",
            "           0       0.61      0.85      0.71       378\n",
            "           1       0.47      0.50      0.48       408\n",
            "           2       1.00      0.47      0.64       648\n",
            "\n",
            "   micro avg       0.66      0.58      0.61      1434\n",
            "   macro avg       0.69      0.61      0.61      1434\n",
            "weighted avg       0.75      0.58      0.61      1434\n",
            " samples avg       0.58      0.58      0.58      1434\n",
            "\n"
          ]
        },
        {
          "output_type": "stream",
          "name": "stderr",
          "text": [
            "/usr/local/lib/python3.10/dist-packages/sklearn/metrics/_classification.py:1344: UndefinedMetricWarning: Precision and F-score are ill-defined and being set to 0.0 in samples with no predicted labels. Use `zero_division` parameter to control this behavior.\n",
            "  _warn_prf(average, modifier, msg_start, len(result))\n"
          ]
        }
      ]
    },
    {
      "cell_type": "code",
      "source": [
        "test_loss, test_acc = model.evaluate(X_test, y_test)\n",
        "print('Test Loss:', test_loss)\n",
        "print('Test Accuracy:', test_acc)"
      ],
      "metadata": {
        "colab": {
          "base_uri": "https://localhost:8080/"
        },
        "id": "uMNXSAkR9-c-",
        "outputId": "4258052d-04ca-46c5-9f51-3a794c35e026"
      },
      "execution_count": 33,
      "outputs": [
        {
          "output_type": "stream",
          "name": "stdout",
          "text": [
            "45/45 [==============================] - 5s 92ms/step - loss: 5.2947 - accuracy: 0.6248\n",
            "Test Loss: 5.294746398925781\n",
            "Test Accuracy: 0.624825656414032\n"
          ]
        }
      ]
    }
  ],
  "metadata": {
    "colab": {
      "provenance": [],
      "gpuType": "A100",
      "machine_shape": "hm"
    },
    "kernelspec": {
      "display_name": "Python 3",
      "language": "python",
      "name": "python3"
    },
    "language_info": {
      "name": "python",
      "version": "3.11.1 (tags/v3.11.1:a7a450f, Dec  6 2022, 19:58:39) [MSC v.1934 64 bit (AMD64)]"
    },
    "vscode": {
      "interpreter": {
        "hash": "896c2daa591989fc05a86cfdf5bf43ebcfd0edb421b3caf943f5a03fbbb816d2"
      }
    },
    "accelerator": "GPU",
    "gpuClass": "standard",
    "widgets": {
      "application/vnd.jupyter.widget-state+json": {
        "3375fec1b5954feda7b9587082be5f2c": {
          "model_module": "@jupyter-widgets/controls",
          "model_name": "HBoxModel",
          "model_module_version": "1.5.0",
          "state": {
            "_dom_classes": [],
            "_model_module": "@jupyter-widgets/controls",
            "_model_module_version": "1.5.0",
            "_model_name": "HBoxModel",
            "_view_count": null,
            "_view_module": "@jupyter-widgets/controls",
            "_view_module_version": "1.5.0",
            "_view_name": "HBoxView",
            "box_style": "",
            "children": [
              "IPY_MODEL_210360031e4149c88c658b0cfa2da3a1",
              "IPY_MODEL_b3f87fe76b5644b0bba436f195ed0356",
              "IPY_MODEL_e9928b40cdfe43638524ec4c97a3281c"
            ],
            "layout": "IPY_MODEL_807a89f135c740849fdf6f1ed2bc8206"
          }
        },
        "210360031e4149c88c658b0cfa2da3a1": {
          "model_module": "@jupyter-widgets/controls",
          "model_name": "HTMLModel",
          "model_module_version": "1.5.0",
          "state": {
            "_dom_classes": [],
            "_model_module": "@jupyter-widgets/controls",
            "_model_module_version": "1.5.0",
            "_model_name": "HTMLModel",
            "_view_count": null,
            "_view_module": "@jupyter-widgets/controls",
            "_view_module_version": "1.5.0",
            "_view_name": "HTMLView",
            "description": "",
            "description_tooltip": null,
            "layout": "IPY_MODEL_19b869736a5c462ab86fc6079b61e0e7",
            "placeholder": "​",
            "style": "IPY_MODEL_515823f770ac40ff88247240e484a742",
            "value": "Map: 100%"
          }
        },
        "b3f87fe76b5644b0bba436f195ed0356": {
          "model_module": "@jupyter-widgets/controls",
          "model_name": "FloatProgressModel",
          "model_module_version": "1.5.0",
          "state": {
            "_dom_classes": [],
            "_model_module": "@jupyter-widgets/controls",
            "_model_module_version": "1.5.0",
            "_model_name": "FloatProgressModel",
            "_view_count": null,
            "_view_module": "@jupyter-widgets/controls",
            "_view_module_version": "1.5.0",
            "_view_name": "ProgressView",
            "bar_style": "",
            "description": "",
            "description_tooltip": null,
            "layout": "IPY_MODEL_afc16840cd6a4dd5acd9ed1aef40e074",
            "max": 892,
            "min": 0,
            "orientation": "horizontal",
            "style": "IPY_MODEL_6501b864c18248029e4f986209b516ed",
            "value": 892
          }
        },
        "e9928b40cdfe43638524ec4c97a3281c": {
          "model_module": "@jupyter-widgets/controls",
          "model_name": "HTMLModel",
          "model_module_version": "1.5.0",
          "state": {
            "_dom_classes": [],
            "_model_module": "@jupyter-widgets/controls",
            "_model_module_version": "1.5.0",
            "_model_name": "HTMLModel",
            "_view_count": null,
            "_view_module": "@jupyter-widgets/controls",
            "_view_module_version": "1.5.0",
            "_view_name": "HTMLView",
            "description": "",
            "description_tooltip": null,
            "layout": "IPY_MODEL_9ab698b370c84d4f82d1a405f5459bea",
            "placeholder": "​",
            "style": "IPY_MODEL_c60b204390174326b638ce0aed167731",
            "value": " 892/892 [02:47&lt;00:00,  3.78 examples/s]"
          }
        },
        "807a89f135c740849fdf6f1ed2bc8206": {
          "model_module": "@jupyter-widgets/base",
          "model_name": "LayoutModel",
          "model_module_version": "1.2.0",
          "state": {
            "_model_module": "@jupyter-widgets/base",
            "_model_module_version": "1.2.0",
            "_model_name": "LayoutModel",
            "_view_count": null,
            "_view_module": "@jupyter-widgets/base",
            "_view_module_version": "1.2.0",
            "_view_name": "LayoutView",
            "align_content": null,
            "align_items": null,
            "align_self": null,
            "border": null,
            "bottom": null,
            "display": null,
            "flex": null,
            "flex_flow": null,
            "grid_area": null,
            "grid_auto_columns": null,
            "grid_auto_flow": null,
            "grid_auto_rows": null,
            "grid_column": null,
            "grid_gap": null,
            "grid_row": null,
            "grid_template_areas": null,
            "grid_template_columns": null,
            "grid_template_rows": null,
            "height": null,
            "justify_content": null,
            "justify_items": null,
            "left": null,
            "margin": null,
            "max_height": null,
            "max_width": null,
            "min_height": null,
            "min_width": null,
            "object_fit": null,
            "object_position": null,
            "order": null,
            "overflow": null,
            "overflow_x": null,
            "overflow_y": null,
            "padding": null,
            "right": null,
            "top": null,
            "visibility": "hidden",
            "width": null
          }
        },
        "19b869736a5c462ab86fc6079b61e0e7": {
          "model_module": "@jupyter-widgets/base",
          "model_name": "LayoutModel",
          "model_module_version": "1.2.0",
          "state": {
            "_model_module": "@jupyter-widgets/base",
            "_model_module_version": "1.2.0",
            "_model_name": "LayoutModel",
            "_view_count": null,
            "_view_module": "@jupyter-widgets/base",
            "_view_module_version": "1.2.0",
            "_view_name": "LayoutView",
            "align_content": null,
            "align_items": null,
            "align_self": null,
            "border": null,
            "bottom": null,
            "display": null,
            "flex": null,
            "flex_flow": null,
            "grid_area": null,
            "grid_auto_columns": null,
            "grid_auto_flow": null,
            "grid_auto_rows": null,
            "grid_column": null,
            "grid_gap": null,
            "grid_row": null,
            "grid_template_areas": null,
            "grid_template_columns": null,
            "grid_template_rows": null,
            "height": null,
            "justify_content": null,
            "justify_items": null,
            "left": null,
            "margin": null,
            "max_height": null,
            "max_width": null,
            "min_height": null,
            "min_width": null,
            "object_fit": null,
            "object_position": null,
            "order": null,
            "overflow": null,
            "overflow_x": null,
            "overflow_y": null,
            "padding": null,
            "right": null,
            "top": null,
            "visibility": null,
            "width": null
          }
        },
        "515823f770ac40ff88247240e484a742": {
          "model_module": "@jupyter-widgets/controls",
          "model_name": "DescriptionStyleModel",
          "model_module_version": "1.5.0",
          "state": {
            "_model_module": "@jupyter-widgets/controls",
            "_model_module_version": "1.5.0",
            "_model_name": "DescriptionStyleModel",
            "_view_count": null,
            "_view_module": "@jupyter-widgets/base",
            "_view_module_version": "1.2.0",
            "_view_name": "StyleView",
            "description_width": ""
          }
        },
        "afc16840cd6a4dd5acd9ed1aef40e074": {
          "model_module": "@jupyter-widgets/base",
          "model_name": "LayoutModel",
          "model_module_version": "1.2.0",
          "state": {
            "_model_module": "@jupyter-widgets/base",
            "_model_module_version": "1.2.0",
            "_model_name": "LayoutModel",
            "_view_count": null,
            "_view_module": "@jupyter-widgets/base",
            "_view_module_version": "1.2.0",
            "_view_name": "LayoutView",
            "align_content": null,
            "align_items": null,
            "align_self": null,
            "border": null,
            "bottom": null,
            "display": null,
            "flex": null,
            "flex_flow": null,
            "grid_area": null,
            "grid_auto_columns": null,
            "grid_auto_flow": null,
            "grid_auto_rows": null,
            "grid_column": null,
            "grid_gap": null,
            "grid_row": null,
            "grid_template_areas": null,
            "grid_template_columns": null,
            "grid_template_rows": null,
            "height": null,
            "justify_content": null,
            "justify_items": null,
            "left": null,
            "margin": null,
            "max_height": null,
            "max_width": null,
            "min_height": null,
            "min_width": null,
            "object_fit": null,
            "object_position": null,
            "order": null,
            "overflow": null,
            "overflow_x": null,
            "overflow_y": null,
            "padding": null,
            "right": null,
            "top": null,
            "visibility": null,
            "width": null
          }
        },
        "6501b864c18248029e4f986209b516ed": {
          "model_module": "@jupyter-widgets/controls",
          "model_name": "ProgressStyleModel",
          "model_module_version": "1.5.0",
          "state": {
            "_model_module": "@jupyter-widgets/controls",
            "_model_module_version": "1.5.0",
            "_model_name": "ProgressStyleModel",
            "_view_count": null,
            "_view_module": "@jupyter-widgets/base",
            "_view_module_version": "1.2.0",
            "_view_name": "StyleView",
            "bar_color": null,
            "description_width": ""
          }
        },
        "9ab698b370c84d4f82d1a405f5459bea": {
          "model_module": "@jupyter-widgets/base",
          "model_name": "LayoutModel",
          "model_module_version": "1.2.0",
          "state": {
            "_model_module": "@jupyter-widgets/base",
            "_model_module_version": "1.2.0",
            "_model_name": "LayoutModel",
            "_view_count": null,
            "_view_module": "@jupyter-widgets/base",
            "_view_module_version": "1.2.0",
            "_view_name": "LayoutView",
            "align_content": null,
            "align_items": null,
            "align_self": null,
            "border": null,
            "bottom": null,
            "display": null,
            "flex": null,
            "flex_flow": null,
            "grid_area": null,
            "grid_auto_columns": null,
            "grid_auto_flow": null,
            "grid_auto_rows": null,
            "grid_column": null,
            "grid_gap": null,
            "grid_row": null,
            "grid_template_areas": null,
            "grid_template_columns": null,
            "grid_template_rows": null,
            "height": null,
            "justify_content": null,
            "justify_items": null,
            "left": null,
            "margin": null,
            "max_height": null,
            "max_width": null,
            "min_height": null,
            "min_width": null,
            "object_fit": null,
            "object_position": null,
            "order": null,
            "overflow": null,
            "overflow_x": null,
            "overflow_y": null,
            "padding": null,
            "right": null,
            "top": null,
            "visibility": null,
            "width": null
          }
        },
        "c60b204390174326b638ce0aed167731": {
          "model_module": "@jupyter-widgets/controls",
          "model_name": "DescriptionStyleModel",
          "model_module_version": "1.5.0",
          "state": {
            "_model_module": "@jupyter-widgets/controls",
            "_model_module_version": "1.5.0",
            "_model_name": "DescriptionStyleModel",
            "_view_count": null,
            "_view_module": "@jupyter-widgets/base",
            "_view_module_version": "1.2.0",
            "_view_name": "StyleView",
            "description_width": ""
          }
        }
      }
    }
  },
  "nbformat": 4,
  "nbformat_minor": 0
}