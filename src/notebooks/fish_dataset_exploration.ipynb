{
 "cells": [
  {
   "cell_type": "code",
   "execution_count": 1,
   "metadata": {},
   "outputs": [],
   "source": [
    "import cv2\n",
    "import os"
   ]
  },
  {
   "attachments": {},
   "cell_type": "markdown",
   "metadata": {},
   "source": [
    "Check image sizes"
   ]
  },
  {
   "cell_type": "code",
   "execution_count": 6,
   "metadata": {},
   "outputs": [
    {
     "name": "stdout",
     "output_type": "stream",
     "text": [
      "Count (512, 768) : 1\n"
     ]
    }
   ],
   "source": [
    "dataset_folder = './data/ribe_512x768'\n",
    "folders = os.listdir(dataset_folder)\n",
    "image_shapes = []\n",
    "\n",
    "for folder in folders:\n",
    "    folder_path = os.path.join(dataset_folder, folder)\n",
    "    for path in os.listdir(folder_path):\n",
    "        image_path = os.path.join(os.path.join(dataset_folder, folder), path)\n",
    "        image = cv2.imread(image_path)\n",
    "        (height, width) = image.shape[0], image.shape[1]\n",
    "        image_shapes.append((height, width))\n",
    "        \n",
    "unique_shapes = list(set(image_shapes))\n",
    "print(f\"Count {unique_shapes[0]} : {len(unique_shapes)}\")"
   ]
  }
 ],
 "metadata": {
  "kernelspec": {
   "display_name": "Python 3",
   "language": "python",
   "name": "python3"
  },
  "language_info": {
   "codemirror_mode": {
    "name": "ipython",
    "version": 3
   },
   "file_extension": ".py",
   "mimetype": "text/x-python",
   "name": "python",
   "nbconvert_exporter": "python",
   "pygments_lexer": "ipython3",
   "version": "3.10.9"
  },
  "orig_nbformat": 4,
  "vscode": {
   "interpreter": {
    "hash": "ec919f9100beb44a84f07d8b99c2adf75b89ce7100c530822b72078b7e838496"
   }
  }
 },
 "nbformat": 4,
 "nbformat_minor": 2
}
