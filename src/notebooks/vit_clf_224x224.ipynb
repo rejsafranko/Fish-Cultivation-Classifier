{
  "cells": [
    {
      "cell_type": "markdown",
      "metadata": {
        "id": "vfMpU5KzYWLi"
      },
      "source": [
        "Environment setup."
      ]
    },
    {
      "cell_type": "code",
      "execution_count": null,
      "metadata": {
        "id": "Nkl1sxWaYWLk"
      },
      "outputs": [],
      "source": [
        "#%pip install datasets\n",
        "#%pip install transformers"
      ]
    },
    {
      "cell_type": "code",
      "execution_count": null,
      "metadata": {
        "id": "-6ViKvipXBxF"
      },
      "outputs": [],
      "source": [
        "#from google.colab import drive\n",
        "#drive.mount('/content/drive')"
      ]
    },
    {
      "cell_type": "code",
      "execution_count": 3,
      "metadata": {
        "id": "YBA_XOPRYWLp"
      },
      "outputs": [],
      "source": [
        "colab_data_path = \"/content/drive/MyDrive/Seminar2/data/ribe_512x768/\"\n",
        "colab_dir = \"/content/drive/MyDrive/Seminar2/model/\"\n",
        "model_name_or_path = \"google/vit-base-patch16-224-in21k\""
      ]
    },
    {
      "cell_type": "markdown",
      "metadata": {
        "id": "hx4tnRlzYWLq"
      },
      "source": [
        "Imports."
      ]
    },
    {
      "cell_type": "code",
      "execution_count": 4,
      "metadata": {
        "id": "Fdsnf3MWYWLr"
      },
      "outputs": [],
      "source": [
        "import numpy as np\n",
        "import torch\n",
        "from torchvision import transforms\n",
        "from datasets import load_dataset, concatenate_datasets\n",
        "from transformers import (\n",
        "    ViTForImageClassification,\n",
        "    ViTFeatureExtractor,\n",
        "    Trainer,\n",
        "    TrainingArguments,\n",
        ")\n",
        "from transformers.trainer_utils import EvalPrediction\n",
        "from sklearn.metrics import f1_score, accuracy_score, precision_score, recall_score"
      ]
    },
    {
      "cell_type": "markdown",
      "metadata": {
        "id": "Eui6AENfYWLs"
      },
      "source": [
        "Prepare dataset splits."
      ]
    },
    {
      "cell_type": "code",
      "execution_count": null,
      "metadata": {
        "id": "yc1IYumqYWLs"
      },
      "outputs": [],
      "source": [
        "dataset = load_dataset(\"imagefolder\", data_dir=colab_data_path)\n",
        "splits = dataset[\"train\"].train_test_split(test_size=0.33)\n",
        "dataset[\"train\"] = splits[\"train\"]\n",
        "dataset[\"val\"] = splits[\"test\"]"
      ]
    },
    {
      "cell_type": "markdown",
      "metadata": {
        "id": "Tj13L4LiYWLt"
      },
      "source": [
        "Define image augmentations."
      ]
    },
    {
      "cell_type": "code",
      "execution_count": 6,
      "metadata": {
        "id": "iSOZzUo4tCRJ"
      },
      "outputs": [],
      "source": [
        "from torchvision import transforms\n",
        "\n",
        "transform = transforms.Compose([\n",
        "    transforms.RandomHorizontalFlip(),\n",
        "    transforms.RandomVerticalFlip(),\n",
        "    transforms.ColorJitter(brightness=0.4, contrast=0.4, saturation=0.4, hue=0.1),\n",
        "    transforms.RandomRotation(30),\n",
        "    transforms.RandomAffine(degrees=0, translate=(0.1, 0.1), scale=(0.8, 1.2)),\n",
        "])"
      ]
    },
    {
      "cell_type": "markdown",
      "metadata": {
        "id": "O8Gx9eOcYWLv"
      },
      "source": [
        "Apply the transforms to the train set. Concatenate the transformed and original train set."
      ]
    },
    {
      "cell_type": "code",
      "execution_count": 7,
      "metadata": {
        "colab": {
          "base_uri": "https://localhost:8080/",
          "height": 17,
          "referenced_widgets": [
            "7857f6c495694e2cbdad804aff033f3e",
            "415feb75149e412884cf06e47c7aa943",
            "a89c4ffcde484b7eafbe3b9d51f75fe0",
            "8ca7d6757f6d4c60a1b8b4b5d0ad9746",
            "994f9fe211804933a84f5cf78aee192c",
            "e42533863da94350b258dd4f3a2f8063",
            "0b223f92083c444f9dea9ea878fa1273",
            "dea47ce5e14e4f6eaa4866fff5ef20cc",
            "624bb2440c3345beab0331085ef30a9a",
            "abdf14cf73fe46289cf7e21b97c7207d",
            "01e41bda61574defbbbe3c37fea37d5b"
          ]
        },
        "id": "jX2oqY4hXFcG",
        "outputId": "ae135a27-64bc-45e0-de97-50df863ba837"
      },
      "outputs": [
        {
          "data": {
            "application/vnd.jupyter.widget-view+json": {
              "model_id": "7857f6c495694e2cbdad804aff033f3e",
              "version_major": 2,
              "version_minor": 0
            },
            "text/plain": [
              "Map:   0%|          | 0/892 [00:00<?, ? examples/s]"
            ]
          },
          "metadata": {},
          "output_type": "display_data"
        }
      ],
      "source": [
        "transformed_train_dataset = dataset[\"train\"].map(\n",
        "    lambda example: {\"image\": transform(example[\"image\"]), \"label\": example[\"label\"]}\n",
        ")\n",
        "\n",
        "dataset[\"train\"] = concatenate_datasets([transformed_train_dataset, dataset[\"train\"]])"
      ]
    },
    {
      "cell_type": "markdown",
      "metadata": {
        "id": "fFvAas2EY_8q"
      },
      "source": [
        "Free unused variables."
      ]
    },
    {
      "cell_type": "code",
      "execution_count": 15,
      "metadata": {
        "id": "E453vBMnZBqi"
      },
      "outputs": [],
      "source": [
        "del splits\n",
        "del transformed_train_dataset"
      ]
    },
    {
      "cell_type": "markdown",
      "metadata": {
        "id": "6IVBFbeUYWLw"
      },
      "source": [
        "Configure the Feature Extractor and apply it to the dataset."
      ]
    },
    {
      "cell_type": "code",
      "execution_count": null,
      "metadata": {
        "id": "ecHMqC50dac7"
      },
      "outputs": [],
      "source": [
        "feature_extractor = ViTFeatureExtractor.from_pretrained(model_name_or_path)\n",
        "\n",
        "def transform(example_batch):\n",
        "    inputs = feature_extractor([x for x in example_batch['image']], return_tensors='pt')\n",
        "    inputs['labels'] = example_batch['label']\n",
        "    return inputs\n",
        "\n",
        "dataset = dataset.with_transform(transform)"
      ]
    },
    {
      "cell_type": "markdown",
      "metadata": {
        "id": "cwl7h18kYWLy"
      },
      "source": [
        "Configure Vision Transformer model."
      ]
    },
    {
      "cell_type": "code",
      "execution_count": null,
      "metadata": {
        "id": "hFs0Q_KyYWLy"
      },
      "outputs": [],
      "source": [
        "from transformers import ViTForImageClassification, ViTConfig\n",
        "\n",
        "labels = dataset['train'].features['label'].names\n",
        "\n",
        "model = ViTForImageClassification.from_pretrained(\n",
        "    model_name_or_path,\n",
        "    num_labels=len(labels),\n",
        "    id2label={str(i): c for i, c in enumerate(labels)},\n",
        "    label2id={c: str(i) for i, c in enumerate(labels)},\n",
        ")\n",
        "\n",
        "model.config.hidden_dropout_prob = 0.5"
      ]
    },
    {
      "cell_type": "markdown",
      "metadata": {
        "id": "B5oS5L8pYWLy"
      },
      "source": [
        "Define auxiliary functions for the training procedure and configure training parameters."
      ]
    },
    {
      "cell_type": "code",
      "execution_count": 10,
      "metadata": {
        "id": "EPY_aCCZhV2E"
      },
      "outputs": [],
      "source": [
        "def collate_fn(batch):\n",
        "    return {\n",
        "        'pixel_values': torch.stack([x['pixel_values'] for x in batch]),\n",
        "        'labels': torch.tensor([x['labels'] for x in batch])\n",
        "    }\n",
        "\n",
        "def compute_metrics(eval_pred: EvalPrediction):\n",
        "  preds = np.argmax(eval_pred.predictions, axis=1)\n",
        "  return {\n",
        "    \"acc\": accuracy_score(eval_pred.label_ids, preds),\n",
        "    \"f1\": f1_score(eval_pred.label_ids, preds, average=\"weighted\"),\n",
        "    \"precision\": precision_score(eval_pred.label_ids, preds, average=\"weighted\"),\n",
        "    \"recall\": recall_score(eval_pred.label_ids, preds, average=\"weighted\")\n",
        "    }"
      ]
    },
    {
      "cell_type": "code",
      "execution_count": 11,
      "metadata": {
        "id": "5XpRESr3thW5"
      },
      "outputs": [],
      "source": [
        "from transformers import TrainingArguments\n",
        "\n",
        "training_args = TrainingArguments(\n",
        "  output_dir=\"/content/drive/MyDrive/Seminar2/model\",\n",
        "  per_device_train_batch_size=32,\n",
        "  per_device_eval_batch_size=32,\n",
        "  evaluation_strategy=\"steps\",\n",
        "  num_train_epochs=6,\n",
        "  fp16=True,\n",
        "  save_steps=60,\n",
        "  eval_steps=60,\n",
        "  warmup_steps=500,\n",
        "  logging_steps=60,\n",
        "  learning_rate=2e-4,\n",
        "  save_total_limit=2,\n",
        "  remove_unused_columns=False,\n",
        "  push_to_hub=False,\n",
        "  report_to='tensorboard',\n",
        "  load_best_model_at_end=True,\n",
        "  weight_decay=0.01,\n",
        ")"
      ]
    },
    {
      "cell_type": "code",
      "execution_count": 12,
      "metadata": {
        "id": "Ds5dDCwot4Ht"
      },
      "outputs": [],
      "source": [
        "from transformers import Trainer\n",
        "\n",
        "trainer = Trainer(\n",
        "    model=model,\n",
        "    args=training_args,\n",
        "    data_collator=collate_fn,\n",
        "    compute_metrics=compute_metrics,\n",
        "    train_dataset=dataset[\"train\"],\n",
        "    eval_dataset=dataset[\"val\"],\n",
        "    tokenizer=feature_extractor,\n",
        ")"
      ]
    },
    {
      "cell_type": "code",
      "execution_count": 13,
      "metadata": {
        "colab": {
          "base_uri": "https://localhost:8080/",
          "height": 408
        },
        "id": "w1UngSfouRsz",
        "outputId": "163335ec-b9bf-499c-d78b-fd8f7e02527e"
      },
      "outputs": [
        {
          "name": "stderr",
          "output_type": "stream",
          "text": [
            "/usr/local/lib/python3.10/dist-packages/transformers/optimization.py:391: FutureWarning: This implementation of AdamW is deprecated and will be removed in a future version. Use the PyTorch implementation torch.optim.AdamW instead, or set `no_deprecation_warning=True` to disable this warning\n",
            "  warnings.warn(\n"
          ]
        },
        {
          "data": {
            "text/html": [
              "\n",
              "    <div>\n",
              "      \n",
              "      <progress value='336' max='336' style='width:300px; height:20px; vertical-align: middle;'></progress>\n",
              "      [336/336 06:52, Epoch 6/6]\n",
              "    </div>\n",
              "    <table border=\"1\" class=\"dataframe\">\n",
              "  <thead>\n",
              " <tr style=\"text-align: left;\">\n",
              "      <th>Step</th>\n",
              "      <th>Training Loss</th>\n",
              "      <th>Validation Loss</th>\n",
              "      <th>Acc</th>\n",
              "      <th>F1</th>\n",
              "      <th>Precision</th>\n",
              "      <th>Recall</th>\n",
              "    </tr>\n",
              "  </thead>\n",
              "  <tbody>\n",
              "    <tr>\n",
              "      <td>60</td>\n",
              "      <td>0.945500</td>\n",
              "      <td>0.584896</td>\n",
              "      <td>0.775000</td>\n",
              "      <td>0.701885</td>\n",
              "      <td>0.850066</td>\n",
              "      <td>0.775000</td>\n",
              "    </tr>\n",
              "    <tr>\n",
              "      <td>120</td>\n",
              "      <td>0.371000</td>\n",
              "      <td>0.258029</td>\n",
              "      <td>0.906818</td>\n",
              "      <td>0.908178</td>\n",
              "      <td>0.930940</td>\n",
              "      <td>0.906818</td>\n",
              "    </tr>\n",
              "    <tr>\n",
              "      <td>180</td>\n",
              "      <td>0.169500</td>\n",
              "      <td>0.105633</td>\n",
              "      <td>0.968182</td>\n",
              "      <td>0.968471</td>\n",
              "      <td>0.971067</td>\n",
              "      <td>0.968182</td>\n",
              "    </tr>\n",
              "    <tr>\n",
              "      <td>240</td>\n",
              "      <td>0.081200</td>\n",
              "      <td>0.082522</td>\n",
              "      <td>0.977273</td>\n",
              "      <td>0.977078</td>\n",
              "      <td>0.977998</td>\n",
              "      <td>0.977273</td>\n",
              "    </tr>\n",
              "    <tr>\n",
              "      <td>300</td>\n",
              "      <td>0.063100</td>\n",
              "      <td>0.094085</td>\n",
              "      <td>0.972727</td>\n",
              "      <td>0.972920</td>\n",
              "      <td>0.973454</td>\n",
              "      <td>0.972727</td>\n",
              "    </tr>\n",
              "  </tbody>\n",
              "</table><p>"
            ],
            "text/plain": [
              "<IPython.core.display.HTML object>"
            ]
          },
          "metadata": {},
          "output_type": "display_data"
        },
        {
          "name": "stdout",
          "output_type": "stream",
          "text": [
            "***** train metrics *****\n",
            "  epoch                    =         6.0\n",
            "  total_flos               = 772515024GF\n",
            "  train_loss               =      0.2994\n",
            "  train_runtime            =  0:07:01.75\n",
            "  train_samples_per_second =       25.38\n",
            "  train_steps_per_second   =       0.797\n"
          ]
        }
      ],
      "source": [
        "train_results = trainer.train()\n",
        "trainer.save_model()\n",
        "trainer.log_metrics(\"train\", train_results.metrics)\n",
        "trainer.save_metrics(\"train\", train_results.metrics)\n",
        "trainer.save_state()"
      ]
    },
    {
      "cell_type": "code",
      "execution_count": 14,
      "metadata": {
        "colab": {
          "base_uri": "https://localhost:8080/",
          "height": 211
        },
        "id": "DRkyq2GMuVNG",
        "outputId": "fd2d5db7-6341-43d5-a40d-465079132db6"
      },
      "outputs": [
        {
          "data": {
            "text/html": [
              "\n",
              "    <div>\n",
              "      \n",
              "      <progress value='45' max='45' style='width:300px; height:20px; vertical-align: middle;'></progress>\n",
              "      [45/45 06:27]\n",
              "    </div>\n",
              "    "
            ],
            "text/plain": [
              "<IPython.core.display.HTML object>"
            ]
          },
          "metadata": {},
          "output_type": "display_data"
        },
        {
          "name": "stdout",
          "output_type": "stream",
          "text": [
            "***** eval metrics *****\n",
            "  epoch                   =        6.0\n",
            "  eval_acc                =     0.5007\n",
            "  eval_f1                 =     0.5086\n",
            "  eval_loss               =      1.451\n",
            "  eval_precision          =     0.6585\n",
            "  eval_recall             =     0.5007\n",
            "  eval_runtime            = 0:06:45.48\n",
            "  eval_samples_per_second =      3.537\n",
            "  eval_steps_per_second   =      0.111\n"
          ]
        }
      ],
      "source": [
        "metrics = trainer.evaluate(dataset['test'])\n",
        "trainer.log_metrics(\"eval\", metrics)\n",
        "trainer.save_metrics(\"eval\", metrics)"
      ]
    }
  ],
  "metadata": {
    "accelerator": "GPU",
    "colab": {
      "gpuType": "A100",
      "machine_shape": "hm",
      "provenance": []
    },
    "gpuClass": "standard",
    "kernelspec": {
      "display_name": "Python 3",
      "language": "python",
      "name": "python3"
    },
    "language_info": {
      "name": "python",
      "version": "3.10.9 (tags/v3.10.9:1dd9be6, Dec  6 2022, 20:01:21) [MSC v.1934 64 bit (AMD64)]"
    },
    "vscode": {
      "interpreter": {
        "hash": "ec919f9100beb44a84f07d8b99c2adf75b89ce7100c530822b72078b7e838496"
      }
    },
    "widgets": {
      "application/vnd.jupyter.widget-state+json": {
        "01e41bda61574defbbbe3c37fea37d5b": {
          "model_module": "@jupyter-widgets/controls",
          "model_module_version": "1.5.0",
          "model_name": "DescriptionStyleModel",
          "state": {
            "_model_module": "@jupyter-widgets/controls",
            "_model_module_version": "1.5.0",
            "_model_name": "DescriptionStyleModel",
            "_view_count": null,
            "_view_module": "@jupyter-widgets/base",
            "_view_module_version": "1.2.0",
            "_view_name": "StyleView",
            "description_width": ""
          }
        },
        "0b223f92083c444f9dea9ea878fa1273": {
          "model_module": "@jupyter-widgets/controls",
          "model_module_version": "1.5.0",
          "model_name": "DescriptionStyleModel",
          "state": {
            "_model_module": "@jupyter-widgets/controls",
            "_model_module_version": "1.5.0",
            "_model_name": "DescriptionStyleModel",
            "_view_count": null,
            "_view_module": "@jupyter-widgets/base",
            "_view_module_version": "1.2.0",
            "_view_name": "StyleView",
            "description_width": ""
          }
        },
        "415feb75149e412884cf06e47c7aa943": {
          "model_module": "@jupyter-widgets/controls",
          "model_module_version": "1.5.0",
          "model_name": "HTMLModel",
          "state": {
            "_dom_classes": [],
            "_model_module": "@jupyter-widgets/controls",
            "_model_module_version": "1.5.0",
            "_model_name": "HTMLModel",
            "_view_count": null,
            "_view_module": "@jupyter-widgets/controls",
            "_view_module_version": "1.5.0",
            "_view_name": "HTMLView",
            "description": "",
            "description_tooltip": null,
            "layout": "IPY_MODEL_e42533863da94350b258dd4f3a2f8063",
            "placeholder": "​",
            "style": "IPY_MODEL_0b223f92083c444f9dea9ea878fa1273",
            "value": "Map: 100%"
          }
        },
        "624bb2440c3345beab0331085ef30a9a": {
          "model_module": "@jupyter-widgets/controls",
          "model_module_version": "1.5.0",
          "model_name": "ProgressStyleModel",
          "state": {
            "_model_module": "@jupyter-widgets/controls",
            "_model_module_version": "1.5.0",
            "_model_name": "ProgressStyleModel",
            "_view_count": null,
            "_view_module": "@jupyter-widgets/base",
            "_view_module_version": "1.2.0",
            "_view_name": "StyleView",
            "bar_color": null,
            "description_width": ""
          }
        },
        "7857f6c495694e2cbdad804aff033f3e": {
          "model_module": "@jupyter-widgets/controls",
          "model_module_version": "1.5.0",
          "model_name": "HBoxModel",
          "state": {
            "_dom_classes": [],
            "_model_module": "@jupyter-widgets/controls",
            "_model_module_version": "1.5.0",
            "_model_name": "HBoxModel",
            "_view_count": null,
            "_view_module": "@jupyter-widgets/controls",
            "_view_module_version": "1.5.0",
            "_view_name": "HBoxView",
            "box_style": "",
            "children": [
              "IPY_MODEL_415feb75149e412884cf06e47c7aa943",
              "IPY_MODEL_a89c4ffcde484b7eafbe3b9d51f75fe0",
              "IPY_MODEL_8ca7d6757f6d4c60a1b8b4b5d0ad9746"
            ],
            "layout": "IPY_MODEL_994f9fe211804933a84f5cf78aee192c"
          }
        },
        "8ca7d6757f6d4c60a1b8b4b5d0ad9746": {
          "model_module": "@jupyter-widgets/controls",
          "model_module_version": "1.5.0",
          "model_name": "HTMLModel",
          "state": {
            "_dom_classes": [],
            "_model_module": "@jupyter-widgets/controls",
            "_model_module_version": "1.5.0",
            "_model_name": "HTMLModel",
            "_view_count": null,
            "_view_module": "@jupyter-widgets/controls",
            "_view_module_version": "1.5.0",
            "_view_name": "HTMLView",
            "description": "",
            "description_tooltip": null,
            "layout": "IPY_MODEL_abdf14cf73fe46289cf7e21b97c7207d",
            "placeholder": "​",
            "style": "IPY_MODEL_01e41bda61574defbbbe3c37fea37d5b",
            "value": " 892/892 [05:38&lt;00:00,  3.58 examples/s]"
          }
        },
        "994f9fe211804933a84f5cf78aee192c": {
          "model_module": "@jupyter-widgets/base",
          "model_module_version": "1.2.0",
          "model_name": "LayoutModel",
          "state": {
            "_model_module": "@jupyter-widgets/base",
            "_model_module_version": "1.2.0",
            "_model_name": "LayoutModel",
            "_view_count": null,
            "_view_module": "@jupyter-widgets/base",
            "_view_module_version": "1.2.0",
            "_view_name": "LayoutView",
            "align_content": null,
            "align_items": null,
            "align_self": null,
            "border": null,
            "bottom": null,
            "display": null,
            "flex": null,
            "flex_flow": null,
            "grid_area": null,
            "grid_auto_columns": null,
            "grid_auto_flow": null,
            "grid_auto_rows": null,
            "grid_column": null,
            "grid_gap": null,
            "grid_row": null,
            "grid_template_areas": null,
            "grid_template_columns": null,
            "grid_template_rows": null,
            "height": null,
            "justify_content": null,
            "justify_items": null,
            "left": null,
            "margin": null,
            "max_height": null,
            "max_width": null,
            "min_height": null,
            "min_width": null,
            "object_fit": null,
            "object_position": null,
            "order": null,
            "overflow": null,
            "overflow_x": null,
            "overflow_y": null,
            "padding": null,
            "right": null,
            "top": null,
            "visibility": "hidden",
            "width": null
          }
        },
        "a89c4ffcde484b7eafbe3b9d51f75fe0": {
          "model_module": "@jupyter-widgets/controls",
          "model_module_version": "1.5.0",
          "model_name": "FloatProgressModel",
          "state": {
            "_dom_classes": [],
            "_model_module": "@jupyter-widgets/controls",
            "_model_module_version": "1.5.0",
            "_model_name": "FloatProgressModel",
            "_view_count": null,
            "_view_module": "@jupyter-widgets/controls",
            "_view_module_version": "1.5.0",
            "_view_name": "ProgressView",
            "bar_style": "",
            "description": "",
            "description_tooltip": null,
            "layout": "IPY_MODEL_dea47ce5e14e4f6eaa4866fff5ef20cc",
            "max": 892,
            "min": 0,
            "orientation": "horizontal",
            "style": "IPY_MODEL_624bb2440c3345beab0331085ef30a9a",
            "value": 892
          }
        },
        "abdf14cf73fe46289cf7e21b97c7207d": {
          "model_module": "@jupyter-widgets/base",
          "model_module_version": "1.2.0",
          "model_name": "LayoutModel",
          "state": {
            "_model_module": "@jupyter-widgets/base",
            "_model_module_version": "1.2.0",
            "_model_name": "LayoutModel",
            "_view_count": null,
            "_view_module": "@jupyter-widgets/base",
            "_view_module_version": "1.2.0",
            "_view_name": "LayoutView",
            "align_content": null,
            "align_items": null,
            "align_self": null,
            "border": null,
            "bottom": null,
            "display": null,
            "flex": null,
            "flex_flow": null,
            "grid_area": null,
            "grid_auto_columns": null,
            "grid_auto_flow": null,
            "grid_auto_rows": null,
            "grid_column": null,
            "grid_gap": null,
            "grid_row": null,
            "grid_template_areas": null,
            "grid_template_columns": null,
            "grid_template_rows": null,
            "height": null,
            "justify_content": null,
            "justify_items": null,
            "left": null,
            "margin": null,
            "max_height": null,
            "max_width": null,
            "min_height": null,
            "min_width": null,
            "object_fit": null,
            "object_position": null,
            "order": null,
            "overflow": null,
            "overflow_x": null,
            "overflow_y": null,
            "padding": null,
            "right": null,
            "top": null,
            "visibility": null,
            "width": null
          }
        },
        "dea47ce5e14e4f6eaa4866fff5ef20cc": {
          "model_module": "@jupyter-widgets/base",
          "model_module_version": "1.2.0",
          "model_name": "LayoutModel",
          "state": {
            "_model_module": "@jupyter-widgets/base",
            "_model_module_version": "1.2.0",
            "_model_name": "LayoutModel",
            "_view_count": null,
            "_view_module": "@jupyter-widgets/base",
            "_view_module_version": "1.2.0",
            "_view_name": "LayoutView",
            "align_content": null,
            "align_items": null,
            "align_self": null,
            "border": null,
            "bottom": null,
            "display": null,
            "flex": null,
            "flex_flow": null,
            "grid_area": null,
            "grid_auto_columns": null,
            "grid_auto_flow": null,
            "grid_auto_rows": null,
            "grid_column": null,
            "grid_gap": null,
            "grid_row": null,
            "grid_template_areas": null,
            "grid_template_columns": null,
            "grid_template_rows": null,
            "height": null,
            "justify_content": null,
            "justify_items": null,
            "left": null,
            "margin": null,
            "max_height": null,
            "max_width": null,
            "min_height": null,
            "min_width": null,
            "object_fit": null,
            "object_position": null,
            "order": null,
            "overflow": null,
            "overflow_x": null,
            "overflow_y": null,
            "padding": null,
            "right": null,
            "top": null,
            "visibility": null,
            "width": null
          }
        },
        "e42533863da94350b258dd4f3a2f8063": {
          "model_module": "@jupyter-widgets/base",
          "model_module_version": "1.2.0",
          "model_name": "LayoutModel",
          "state": {
            "_model_module": "@jupyter-widgets/base",
            "_model_module_version": "1.2.0",
            "_model_name": "LayoutModel",
            "_view_count": null,
            "_view_module": "@jupyter-widgets/base",
            "_view_module_version": "1.2.0",
            "_view_name": "LayoutView",
            "align_content": null,
            "align_items": null,
            "align_self": null,
            "border": null,
            "bottom": null,
            "display": null,
            "flex": null,
            "flex_flow": null,
            "grid_area": null,
            "grid_auto_columns": null,
            "grid_auto_flow": null,
            "grid_auto_rows": null,
            "grid_column": null,
            "grid_gap": null,
            "grid_row": null,
            "grid_template_areas": null,
            "grid_template_columns": null,
            "grid_template_rows": null,
            "height": null,
            "justify_content": null,
            "justify_items": null,
            "left": null,
            "margin": null,
            "max_height": null,
            "max_width": null,
            "min_height": null,
            "min_width": null,
            "object_fit": null,
            "object_position": null,
            "order": null,
            "overflow": null,
            "overflow_x": null,
            "overflow_y": null,
            "padding": null,
            "right": null,
            "top": null,
            "visibility": null,
            "width": null
          }
        }
      }
    }
  },
  "nbformat": 4,
  "nbformat_minor": 0
}
