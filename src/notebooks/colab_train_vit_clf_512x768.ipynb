{
  "cells": [
    {
      "cell_type": "markdown",
      "metadata": {
        "id": "Q_v1w-cvU0Dm"
      },
      "source": [
        "Environment setup."
      ]
    },
    {
      "cell_type": "code",
      "execution_count": null,
      "metadata": {
        "id": "dDkuPUDuHsq8"
      },
      "outputs": [],
      "source": [
        "!pip install transformers\n",
        "!pip install datasets"
      ]
    },
    {
      "cell_type": "code",
      "execution_count": null,
      "metadata": {
        "id": "n4mNZpCfVR9c"
      },
      "outputs": [],
      "source": [
        "from google.colab import drive\n",
        "drive.mount('/content/drive')"
      ]
    },
    {
      "cell_type": "code",
      "execution_count": 3,
      "metadata": {
        "id": "EA_JjJCrVYTY"
      },
      "outputs": [],
      "source": [
        "colab_data_path = \"/content/drive/MyDrive/Seminar2/data/ribe_512x768/\"\n",
        "colab_dir = \"/content/drive/MyDrive/Seminar2/model/\"\n",
        "model_name_or_path = \"google/vit-base-patch16-224-in21k\""
      ]
    },
    {
      "cell_type": "markdown",
      "metadata": {
        "id": "JYv5xzZRFogJ"
      },
      "source": [
        "Imports."
      ]
    },
    {
      "cell_type": "code",
      "execution_count": 4,
      "metadata": {
        "id": "ZRJkBtHEFogM"
      },
      "outputs": [],
      "source": [
        "import numpy as np\n",
        "import torch\n",
        "from torchvision import transforms\n",
        "from datasets import load_dataset, concatenate_datasets\n",
        "from transformers import (\n",
        "    ViTForImageClassification,\n",
        "    ViTFeatureExtractor,\n",
        "    Trainer,\n",
        "    TrainingArguments,\n",
        ")\n",
        "from transformers.trainer_utils import EvalPrediction\n",
        "from sklearn.metrics import f1_score, accuracy_score, precision_score, recall_score"
      ]
    },
    {
      "cell_type": "markdown",
      "metadata": {
        "id": "aA9WGxqJVU-3"
      },
      "source": [
        "Prepare dataset splits."
      ]
    },
    {
      "cell_type": "code",
      "execution_count": null,
      "metadata": {
        "id": "dhi8DSzITmdl"
      },
      "outputs": [],
      "source": [
        "dataset = load_dataset(\"imagefolder\", data_dir=colab_data_path)\n",
        "splits = dataset[\"train\"].train_test_split(test_size=0.33)\n",
        "dataset[\"train\"] = splits[\"train\"]\n",
        "dataset[\"val\"] = splits[\"test\"]"
      ]
    },
    {
      "cell_type": "markdown",
      "metadata": {
        "id": "kwwjvgdiUmBo"
      },
      "source": [
        "Define image augmentations."
      ]
    },
    {
      "cell_type": "code",
      "execution_count": 6,
      "metadata": {
        "id": "hA5mIx_OToRi"
      },
      "outputs": [],
      "source": [
        "transform = transforms.Compose([\n",
        "    transforms.RandomHorizontalFlip(),\n",
        "    transforms.RandomVerticalFlip(),\n",
        "    transforms.ColorJitter(brightness=0.4, contrast=0.4, saturation=0.4, hue=0.1),\n",
        "    transforms.RandomRotation(30),\n",
        "    transforms.RandomAffine(degrees=0, translate=(0.1, 0.1), scale=(0.8, 1.2)),\n",
        "])"
      ]
    },
    {
      "cell_type": "markdown",
      "metadata": {
        "id": "0WakqvlvUopP"
      },
      "source": [
        "Apply the transforms to the train set. Concatenate the transformed and original train set."
      ]
    },
    {
      "cell_type": "code",
      "execution_count": 7,
      "metadata": {
        "id": "mlwRRw3WTpuH",
        "colab": {
          "base_uri": "https://localhost:8080/",
          "height": 17,
          "referenced_widgets": [
            "4ef983d5f509472a9c01e190d5b59bb2",
            "468bf28985f3485f8bcb514d8bff5bb7",
            "6c144373ad1a4a839cabc904bfceb1fd",
            "9a148c79041441cf8ec1f3ee031f5102",
            "9a9b810035ef46dca87a8a36d4c13800",
            "d1dce6749862449891ae696f59abc327",
            "906a74f382b64891a85d44ca099324a9",
            "026be85d023847bb9093e13f8b1b2ab6",
            "0060233ce129470fac2d5182e2e9083b",
            "f169e424fb9c43e6b41b391aa5e2fc2c",
            "0fceebc89d7d4ae384c3782b4253bf45"
          ]
        },
        "outputId": "866233ba-d174-4a56-e32c-43b276a2afbb"
      },
      "outputs": [
        {
          "output_type": "display_data",
          "data": {
            "text/plain": [
              "Map:   0%|          | 0/892 [00:00<?, ? examples/s]"
            ],
            "application/vnd.jupyter.widget-view+json": {
              "version_major": 2,
              "version_minor": 0,
              "model_id": "4ef983d5f509472a9c01e190d5b59bb2"
            }
          },
          "metadata": {}
        }
      ],
      "source": [
        "transformed_train_dataset = dataset[\"train\"].map(\n",
        "    lambda example: {\"image\": transform(example[\"image\"]), \"label\": example[\"label\"]}\n",
        ")\n",
        "\n",
        "dataset[\"train\"] = concatenate_datasets([transformed_train_dataset, dataset[\"train\"]])"
      ]
    },
    {
      "cell_type": "markdown",
      "metadata": {
        "id": "ubKH1L0uUIaZ"
      },
      "source": [
        "Configure the Feature Extractor and apply it to the dataset."
      ]
    },
    {
      "cell_type": "code",
      "execution_count": null,
      "metadata": {
        "id": "qt39CjLkTttG"
      },
      "outputs": [],
      "source": [
        "feature_extractor = ViTFeatureExtractor.from_pretrained(\n",
        "    model_name_or_path,\n",
        "    do_resize=False,\n",
        "    patch_size=64,\n",
        ")\n",
        "\n",
        "def transform(example_batch):\n",
        "    inputs = feature_extractor(\n",
        "        [x.convert(\"RGB\") for x in example_batch[\"image\"]], return_tensors=\"pt\"\n",
        "      )\n",
        "    inputs[\"labels\"] = example_batch[\"label\"]\n",
        "    return inputs\n",
        "\n",
        "dataset = dataset.with_transform(transform)\n",
        "\n",
        "id2label = {id: label for id, label in enumerate(dataset[\"train\"].features[\"label\"].names)}\n",
        "label2id = {label: id for id, label in id2label.items()}"
      ]
    },
    {
      "cell_type": "markdown",
      "metadata": {
        "id": "v8gCzNfXUFIr"
      },
      "source": [
        "Configure Vision Transformer model."
      ]
    },
    {
      "cell_type": "code",
      "execution_count": null,
      "metadata": {
        "id": "XAY_kWjoTxXy"
      },
      "outputs": [],
      "source": [
        "# Set interpolate_pos_encoding=True in the source code.\n",
        "model = ViTForImageClassification.from_pretrained(\n",
        "    model_name_or_path,\n",
        "    num_labels=len(id2label),\n",
        "    id2label=id2label,\n",
        "    label2id=label2id,\n",
        "    ignore_mismatched_sizes=True,\n",
        ")\n",
        "\n",
        "model.config.hidden_dropout_prob = 0.5"
      ]
    },
    {
      "cell_type": "markdown",
      "metadata": {
        "id": "PWDbGDVJUArT"
      },
      "source": [
        "Define auxiliary functions for the training procedure and configure training parameters."
      ]
    },
    {
      "cell_type": "code",
      "execution_count": 10,
      "metadata": {
        "id": "ia00I2v0VBBz"
      },
      "outputs": [],
      "source": [
        "def collate_fn(batch):\n",
        "    return {\n",
        "        'pixel_values': torch.stack([x['pixel_values'] for x in batch]),\n",
        "        'labels': torch.tensor([x['labels'] for x in batch])\n",
        "    }\n",
        "\n",
        "def compute_metrics(eval_pred: EvalPrediction):\n",
        "  preds = np.argmax(eval_pred.predictions, axis=1)\n",
        "  return {\n",
        "    \"acc\": accuracy_score(eval_pred.label_ids, preds),\n",
        "    \"f1\": f1_score(eval_pred.label_ids, preds, average=\"weighted\"),\n",
        "    \"precision\": precision_score(eval_pred.label_ids, preds, average=\"weighted\"),\n",
        "    \"recall\": recall_score(eval_pred.label_ids, preds, average=\"weighted\")\n",
        "    }"
      ]
    },
    {
      "cell_type": "code",
      "execution_count": 11,
      "metadata": {
        "id": "6G9sQ4QQT2Dg"
      },
      "outputs": [],
      "source": [
        "training_args = TrainingArguments(\n",
        "  output_dir=colab_dir,\n",
        "  per_device_train_batch_size=8,\n",
        "  per_device_eval_batch_size=8,\n",
        "  evaluation_strategy=\"steps\",\n",
        "  num_train_epochs=6,\n",
        "  fp16=True,\n",
        "  save_steps=60,\n",
        "  eval_steps=60,\n",
        "  warmup_steps=500,\n",
        "  logging_steps=60,\n",
        "  learning_rate=2e-4,\n",
        "  save_total_limit=2,\n",
        "  remove_unused_columns=False,\n",
        "  push_to_hub=False,\n",
        "  report_to='tensorboard',\n",
        "  load_best_model_at_end=True,\n",
        "  weight_decay=0.01,\n",
        ")\n",
        "\n",
        "trainer = Trainer(\n",
        "    model=model,\n",
        "    args=training_args,\n",
        "    data_collator=collate_fn,\n",
        "    compute_metrics=compute_metrics,\n",
        "    train_dataset=dataset[\"train\"],\n",
        "    eval_dataset=dataset[\"val\"],\n",
        "    tokenizer=feature_extractor,\n",
        ")"
      ]
    },
    {
      "cell_type": "markdown",
      "metadata": {
        "id": "LQf8Mfm_T9Be"
      },
      "source": [
        "Train the model."
      ]
    },
    {
      "cell_type": "code",
      "execution_count": 12,
      "metadata": {
        "id": "IZukltIaFogV",
        "colab": {
          "base_uri": "https://localhost:8080/",
          "height": 942
        },
        "outputId": "32d10c3b-4515-4f5d-844b-3ab61bc402d5"
      },
      "outputs": [
        {
          "output_type": "stream",
          "name": "stderr",
          "text": [
            "/usr/local/lib/python3.10/dist-packages/transformers/optimization.py:391: FutureWarning: This implementation of AdamW is deprecated and will be removed in a future version. Use the PyTorch implementation torch.optim.AdamW instead, or set `no_deprecation_warning=True` to disable this warning\n",
            "  warnings.warn(\n"
          ]
        },
        {
          "output_type": "display_data",
          "data": {
            "text/plain": [
              "<IPython.core.display.HTML object>"
            ],
            "text/html": [
              "\n",
              "    <div>\n",
              "      \n",
              "      <progress value='1338' max='1338' style='width:300px; height:20px; vertical-align: middle;'></progress>\n",
              "      [1338/1338 18:47, Epoch 6/6]\n",
              "    </div>\n",
              "    <table border=\"1\" class=\"dataframe\">\n",
              "  <thead>\n",
              " <tr style=\"text-align: left;\">\n",
              "      <th>Step</th>\n",
              "      <th>Training Loss</th>\n",
              "      <th>Validation Loss</th>\n",
              "      <th>Acc</th>\n",
              "      <th>F1</th>\n",
              "      <th>Precision</th>\n",
              "      <th>Recall</th>\n",
              "    </tr>\n",
              "  </thead>\n",
              "  <tbody>\n",
              "    <tr>\n",
              "      <td>60</td>\n",
              "      <td>1.005800</td>\n",
              "      <td>0.654977</td>\n",
              "      <td>0.829545</td>\n",
              "      <td>0.788924</td>\n",
              "      <td>0.880356</td>\n",
              "      <td>0.829545</td>\n",
              "    </tr>\n",
              "    <tr>\n",
              "      <td>120</td>\n",
              "      <td>0.504900</td>\n",
              "      <td>0.268088</td>\n",
              "      <td>0.913636</td>\n",
              "      <td>0.907449</td>\n",
              "      <td>0.926164</td>\n",
              "      <td>0.913636</td>\n",
              "    </tr>\n",
              "    <tr>\n",
              "      <td>180</td>\n",
              "      <td>0.383100</td>\n",
              "      <td>0.229682</td>\n",
              "      <td>0.950000</td>\n",
              "      <td>0.950220</td>\n",
              "      <td>0.950704</td>\n",
              "      <td>0.950000</td>\n",
              "    </tr>\n",
              "    <tr>\n",
              "      <td>240</td>\n",
              "      <td>0.251500</td>\n",
              "      <td>0.257546</td>\n",
              "      <td>0.902273</td>\n",
              "      <td>0.905782</td>\n",
              "      <td>0.930443</td>\n",
              "      <td>0.902273</td>\n",
              "    </tr>\n",
              "    <tr>\n",
              "      <td>300</td>\n",
              "      <td>0.212300</td>\n",
              "      <td>0.363468</td>\n",
              "      <td>0.834091</td>\n",
              "      <td>0.834842</td>\n",
              "      <td>0.904093</td>\n",
              "      <td>0.834091</td>\n",
              "    </tr>\n",
              "    <tr>\n",
              "      <td>360</td>\n",
              "      <td>0.235100</td>\n",
              "      <td>0.269703</td>\n",
              "      <td>0.902273</td>\n",
              "      <td>0.895339</td>\n",
              "      <td>0.916548</td>\n",
              "      <td>0.902273</td>\n",
              "    </tr>\n",
              "    <tr>\n",
              "      <td>420</td>\n",
              "      <td>0.230400</td>\n",
              "      <td>0.353252</td>\n",
              "      <td>0.872727</td>\n",
              "      <td>0.877151</td>\n",
              "      <td>0.904670</td>\n",
              "      <td>0.872727</td>\n",
              "    </tr>\n",
              "    <tr>\n",
              "      <td>480</td>\n",
              "      <td>0.327300</td>\n",
              "      <td>0.195499</td>\n",
              "      <td>0.918182</td>\n",
              "      <td>0.919458</td>\n",
              "      <td>0.932433</td>\n",
              "      <td>0.918182</td>\n",
              "    </tr>\n",
              "    <tr>\n",
              "      <td>540</td>\n",
              "      <td>0.361700</td>\n",
              "      <td>0.102651</td>\n",
              "      <td>0.963636</td>\n",
              "      <td>0.963253</td>\n",
              "      <td>0.964019</td>\n",
              "      <td>0.963636</td>\n",
              "    </tr>\n",
              "    <tr>\n",
              "      <td>600</td>\n",
              "      <td>0.169000</td>\n",
              "      <td>0.123614</td>\n",
              "      <td>0.968182</td>\n",
              "      <td>0.967666</td>\n",
              "      <td>0.969186</td>\n",
              "      <td>0.968182</td>\n",
              "    </tr>\n",
              "    <tr>\n",
              "      <td>660</td>\n",
              "      <td>0.207100</td>\n",
              "      <td>0.081545</td>\n",
              "      <td>0.979545</td>\n",
              "      <td>0.979416</td>\n",
              "      <td>0.979745</td>\n",
              "      <td>0.979545</td>\n",
              "    </tr>\n",
              "    <tr>\n",
              "      <td>720</td>\n",
              "      <td>0.090100</td>\n",
              "      <td>0.094760</td>\n",
              "      <td>0.970455</td>\n",
              "      <td>0.970099</td>\n",
              "      <td>0.971229</td>\n",
              "      <td>0.970455</td>\n",
              "    </tr>\n",
              "    <tr>\n",
              "      <td>780</td>\n",
              "      <td>0.063700</td>\n",
              "      <td>0.077335</td>\n",
              "      <td>0.975000</td>\n",
              "      <td>0.975084</td>\n",
              "      <td>0.975325</td>\n",
              "      <td>0.975000</td>\n",
              "    </tr>\n",
              "    <tr>\n",
              "      <td>840</td>\n",
              "      <td>0.060700</td>\n",
              "      <td>0.071114</td>\n",
              "      <td>0.981818</td>\n",
              "      <td>0.981695</td>\n",
              "      <td>0.981827</td>\n",
              "      <td>0.981818</td>\n",
              "    </tr>\n",
              "    <tr>\n",
              "      <td>900</td>\n",
              "      <td>0.061200</td>\n",
              "      <td>0.187432</td>\n",
              "      <td>0.952273</td>\n",
              "      <td>0.952907</td>\n",
              "      <td>0.957395</td>\n",
              "      <td>0.952273</td>\n",
              "    </tr>\n",
              "    <tr>\n",
              "      <td>960</td>\n",
              "      <td>0.054000</td>\n",
              "      <td>0.116974</td>\n",
              "      <td>0.968182</td>\n",
              "      <td>0.968516</td>\n",
              "      <td>0.969524</td>\n",
              "      <td>0.968182</td>\n",
              "    </tr>\n",
              "    <tr>\n",
              "      <td>1020</td>\n",
              "      <td>0.016500</td>\n",
              "      <td>0.074142</td>\n",
              "      <td>0.979545</td>\n",
              "      <td>0.979666</td>\n",
              "      <td>0.980016</td>\n",
              "      <td>0.979545</td>\n",
              "    </tr>\n",
              "    <tr>\n",
              "      <td>1080</td>\n",
              "      <td>0.020100</td>\n",
              "      <td>0.090147</td>\n",
              "      <td>0.975000</td>\n",
              "      <td>0.974818</td>\n",
              "      <td>0.975927</td>\n",
              "      <td>0.975000</td>\n",
              "    </tr>\n",
              "    <tr>\n",
              "      <td>1140</td>\n",
              "      <td>0.014800</td>\n",
              "      <td>0.071650</td>\n",
              "      <td>0.986364</td>\n",
              "      <td>0.986424</td>\n",
              "      <td>0.986768</td>\n",
              "      <td>0.986364</td>\n",
              "    </tr>\n",
              "    <tr>\n",
              "      <td>1200</td>\n",
              "      <td>0.003100</td>\n",
              "      <td>0.068946</td>\n",
              "      <td>0.984091</td>\n",
              "      <td>0.984144</td>\n",
              "      <td>0.984358</td>\n",
              "      <td>0.984091</td>\n",
              "    </tr>\n",
              "    <tr>\n",
              "      <td>1260</td>\n",
              "      <td>0.002900</td>\n",
              "      <td>0.055229</td>\n",
              "      <td>0.984091</td>\n",
              "      <td>0.984109</td>\n",
              "      <td>0.984145</td>\n",
              "      <td>0.984091</td>\n",
              "    </tr>\n",
              "    <tr>\n",
              "      <td>1320</td>\n",
              "      <td>0.002700</td>\n",
              "      <td>0.055088</td>\n",
              "      <td>0.984091</td>\n",
              "      <td>0.984072</td>\n",
              "      <td>0.984071</td>\n",
              "      <td>0.984091</td>\n",
              "    </tr>\n",
              "  </tbody>\n",
              "</table><p>"
            ]
          },
          "metadata": {}
        },
        {
          "output_type": "stream",
          "name": "stdout",
          "text": [
            "***** train metrics *****\n",
            "  epoch                    =          6.0\n",
            "  total_flos               = 6053995291GF\n",
            "  train_loss               =       0.1919\n",
            "  train_runtime            =   0:18:55.42\n",
            "  train_samples_per_second =        9.427\n",
            "  train_steps_per_second   =        1.178\n"
          ]
        }
      ],
      "source": [
        "train_results = trainer.train()\n",
        "trainer.save_model()\n",
        "trainer.log_metrics(\"train\", train_results.metrics)\n",
        "trainer.save_metrics(\"train\", train_results.metrics)\n",
        "trainer.save_state()"
      ]
    },
    {
      "cell_type": "markdown",
      "metadata": {
        "id": "NYVGh6DvT-bb"
      },
      "source": [
        "Evaluate the model."
      ]
    },
    {
      "cell_type": "code",
      "execution_count": 13,
      "metadata": {
        "id": "euTATbBdJSPN",
        "colab": {
          "base_uri": "https://localhost:8080/",
          "height": 211
        },
        "outputId": "4ce8f7d6-fbeb-4037-fd54-f27bfc725e53"
      },
      "outputs": [
        {
          "output_type": "display_data",
          "data": {
            "text/plain": [
              "<IPython.core.display.HTML object>"
            ],
            "text/html": [
              "\n",
              "    <div>\n",
              "      \n",
              "      <progress value='180' max='180' style='width:300px; height:20px; vertical-align: middle;'></progress>\n",
              "      [180/180 03:23]\n",
              "    </div>\n",
              "    "
            ]
          },
          "metadata": {}
        },
        {
          "output_type": "stream",
          "name": "stdout",
          "text": [
            "***** eval metrics *****\n",
            "  epoch                   =        6.0\n",
            "  eval_acc                =     0.5286\n",
            "  eval_f1                 =     0.5413\n",
            "  eval_loss               =     2.4848\n",
            "  eval_precision          =     0.6778\n",
            "  eval_recall             =     0.5286\n",
            "  eval_runtime            = 0:03:25.28\n",
            "  eval_samples_per_second =      6.985\n",
            "  eval_steps_per_second   =      0.877\n"
          ]
        }
      ],
      "source": [
        "metrics = trainer.evaluate(dataset[\"test\"])\n",
        "trainer.log_metrics(\"eval\", metrics)\n",
        "trainer.save_metrics(\"eval\", metrics)"
      ]
    }
  ],
  "metadata": {
    "accelerator": "GPU",
    "colab": {
      "provenance": [],
      "machine_shape": "hm",
      "gpuType": "A100"
    },
    "gpuClass": "standard",
    "kernelspec": {
      "display_name": "Python 3",
      "language": "python",
      "name": "python3"
    },
    "language_info": {
      "codemirror_mode": {
        "name": "ipython",
        "version": 3
      },
      "file_extension": ".py",
      "mimetype": "text/x-python",
      "name": "python",
      "nbconvert_exporter": "python",
      "pygments_lexer": "ipython3",
      "version": "3.10.9"
    },
    "widgets": {
      "application/vnd.jupyter.widget-state+json": {
        "4ef983d5f509472a9c01e190d5b59bb2": {
          "model_module": "@jupyter-widgets/controls",
          "model_name": "HBoxModel",
          "model_module_version": "1.5.0",
          "state": {
            "_dom_classes": [],
            "_model_module": "@jupyter-widgets/controls",
            "_model_module_version": "1.5.0",
            "_model_name": "HBoxModel",
            "_view_count": null,
            "_view_module": "@jupyter-widgets/controls",
            "_view_module_version": "1.5.0",
            "_view_name": "HBoxView",
            "box_style": "",
            "children": [
              "IPY_MODEL_468bf28985f3485f8bcb514d8bff5bb7",
              "IPY_MODEL_6c144373ad1a4a839cabc904bfceb1fd",
              "IPY_MODEL_9a148c79041441cf8ec1f3ee031f5102"
            ],
            "layout": "IPY_MODEL_9a9b810035ef46dca87a8a36d4c13800"
          }
        },
        "468bf28985f3485f8bcb514d8bff5bb7": {
          "model_module": "@jupyter-widgets/controls",
          "model_name": "HTMLModel",
          "model_module_version": "1.5.0",
          "state": {
            "_dom_classes": [],
            "_model_module": "@jupyter-widgets/controls",
            "_model_module_version": "1.5.0",
            "_model_name": "HTMLModel",
            "_view_count": null,
            "_view_module": "@jupyter-widgets/controls",
            "_view_module_version": "1.5.0",
            "_view_name": "HTMLView",
            "description": "",
            "description_tooltip": null,
            "layout": "IPY_MODEL_d1dce6749862449891ae696f59abc327",
            "placeholder": "​",
            "style": "IPY_MODEL_906a74f382b64891a85d44ca099324a9",
            "value": "Map: 100%"
          }
        },
        "6c144373ad1a4a839cabc904bfceb1fd": {
          "model_module": "@jupyter-widgets/controls",
          "model_name": "FloatProgressModel",
          "model_module_version": "1.5.0",
          "state": {
            "_dom_classes": [],
            "_model_module": "@jupyter-widgets/controls",
            "_model_module_version": "1.5.0",
            "_model_name": "FloatProgressModel",
            "_view_count": null,
            "_view_module": "@jupyter-widgets/controls",
            "_view_module_version": "1.5.0",
            "_view_name": "ProgressView",
            "bar_style": "",
            "description": "",
            "description_tooltip": null,
            "layout": "IPY_MODEL_026be85d023847bb9093e13f8b1b2ab6",
            "max": 892,
            "min": 0,
            "orientation": "horizontal",
            "style": "IPY_MODEL_0060233ce129470fac2d5182e2e9083b",
            "value": 892
          }
        },
        "9a148c79041441cf8ec1f3ee031f5102": {
          "model_module": "@jupyter-widgets/controls",
          "model_name": "HTMLModel",
          "model_module_version": "1.5.0",
          "state": {
            "_dom_classes": [],
            "_model_module": "@jupyter-widgets/controls",
            "_model_module_version": "1.5.0",
            "_model_name": "HTMLModel",
            "_view_count": null,
            "_view_module": "@jupyter-widgets/controls",
            "_view_module_version": "1.5.0",
            "_view_name": "HTMLView",
            "description": "",
            "description_tooltip": null,
            "layout": "IPY_MODEL_f169e424fb9c43e6b41b391aa5e2fc2c",
            "placeholder": "​",
            "style": "IPY_MODEL_0fceebc89d7d4ae384c3782b4253bf45",
            "value": " 892/892 [02:50&lt;00:00,  4.83 examples/s]"
          }
        },
        "9a9b810035ef46dca87a8a36d4c13800": {
          "model_module": "@jupyter-widgets/base",
          "model_name": "LayoutModel",
          "model_module_version": "1.2.0",
          "state": {
            "_model_module": "@jupyter-widgets/base",
            "_model_module_version": "1.2.0",
            "_model_name": "LayoutModel",
            "_view_count": null,
            "_view_module": "@jupyter-widgets/base",
            "_view_module_version": "1.2.0",
            "_view_name": "LayoutView",
            "align_content": null,
            "align_items": null,
            "align_self": null,
            "border": null,
            "bottom": null,
            "display": null,
            "flex": null,
            "flex_flow": null,
            "grid_area": null,
            "grid_auto_columns": null,
            "grid_auto_flow": null,
            "grid_auto_rows": null,
            "grid_column": null,
            "grid_gap": null,
            "grid_row": null,
            "grid_template_areas": null,
            "grid_template_columns": null,
            "grid_template_rows": null,
            "height": null,
            "justify_content": null,
            "justify_items": null,
            "left": null,
            "margin": null,
            "max_height": null,
            "max_width": null,
            "min_height": null,
            "min_width": null,
            "object_fit": null,
            "object_position": null,
            "order": null,
            "overflow": null,
            "overflow_x": null,
            "overflow_y": null,
            "padding": null,
            "right": null,
            "top": null,
            "visibility": "hidden",
            "width": null
          }
        },
        "d1dce6749862449891ae696f59abc327": {
          "model_module": "@jupyter-widgets/base",
          "model_name": "LayoutModel",
          "model_module_version": "1.2.0",
          "state": {
            "_model_module": "@jupyter-widgets/base",
            "_model_module_version": "1.2.0",
            "_model_name": "LayoutModel",
            "_view_count": null,
            "_view_module": "@jupyter-widgets/base",
            "_view_module_version": "1.2.0",
            "_view_name": "LayoutView",
            "align_content": null,
            "align_items": null,
            "align_self": null,
            "border": null,
            "bottom": null,
            "display": null,
            "flex": null,
            "flex_flow": null,
            "grid_area": null,
            "grid_auto_columns": null,
            "grid_auto_flow": null,
            "grid_auto_rows": null,
            "grid_column": null,
            "grid_gap": null,
            "grid_row": null,
            "grid_template_areas": null,
            "grid_template_columns": null,
            "grid_template_rows": null,
            "height": null,
            "justify_content": null,
            "justify_items": null,
            "left": null,
            "margin": null,
            "max_height": null,
            "max_width": null,
            "min_height": null,
            "min_width": null,
            "object_fit": null,
            "object_position": null,
            "order": null,
            "overflow": null,
            "overflow_x": null,
            "overflow_y": null,
            "padding": null,
            "right": null,
            "top": null,
            "visibility": null,
            "width": null
          }
        },
        "906a74f382b64891a85d44ca099324a9": {
          "model_module": "@jupyter-widgets/controls",
          "model_name": "DescriptionStyleModel",
          "model_module_version": "1.5.0",
          "state": {
            "_model_module": "@jupyter-widgets/controls",
            "_model_module_version": "1.5.0",
            "_model_name": "DescriptionStyleModel",
            "_view_count": null,
            "_view_module": "@jupyter-widgets/base",
            "_view_module_version": "1.2.0",
            "_view_name": "StyleView",
            "description_width": ""
          }
        },
        "026be85d023847bb9093e13f8b1b2ab6": {
          "model_module": "@jupyter-widgets/base",
          "model_name": "LayoutModel",
          "model_module_version": "1.2.0",
          "state": {
            "_model_module": "@jupyter-widgets/base",
            "_model_module_version": "1.2.0",
            "_model_name": "LayoutModel",
            "_view_count": null,
            "_view_module": "@jupyter-widgets/base",
            "_view_module_version": "1.2.0",
            "_view_name": "LayoutView",
            "align_content": null,
            "align_items": null,
            "align_self": null,
            "border": null,
            "bottom": null,
            "display": null,
            "flex": null,
            "flex_flow": null,
            "grid_area": null,
            "grid_auto_columns": null,
            "grid_auto_flow": null,
            "grid_auto_rows": null,
            "grid_column": null,
            "grid_gap": null,
            "grid_row": null,
            "grid_template_areas": null,
            "grid_template_columns": null,
            "grid_template_rows": null,
            "height": null,
            "justify_content": null,
            "justify_items": null,
            "left": null,
            "margin": null,
            "max_height": null,
            "max_width": null,
            "min_height": null,
            "min_width": null,
            "object_fit": null,
            "object_position": null,
            "order": null,
            "overflow": null,
            "overflow_x": null,
            "overflow_y": null,
            "padding": null,
            "right": null,
            "top": null,
            "visibility": null,
            "width": null
          }
        },
        "0060233ce129470fac2d5182e2e9083b": {
          "model_module": "@jupyter-widgets/controls",
          "model_name": "ProgressStyleModel",
          "model_module_version": "1.5.0",
          "state": {
            "_model_module": "@jupyter-widgets/controls",
            "_model_module_version": "1.5.0",
            "_model_name": "ProgressStyleModel",
            "_view_count": null,
            "_view_module": "@jupyter-widgets/base",
            "_view_module_version": "1.2.0",
            "_view_name": "StyleView",
            "bar_color": null,
            "description_width": ""
          }
        },
        "f169e424fb9c43e6b41b391aa5e2fc2c": {
          "model_module": "@jupyter-widgets/base",
          "model_name": "LayoutModel",
          "model_module_version": "1.2.0",
          "state": {
            "_model_module": "@jupyter-widgets/base",
            "_model_module_version": "1.2.0",
            "_model_name": "LayoutModel",
            "_view_count": null,
            "_view_module": "@jupyter-widgets/base",
            "_view_module_version": "1.2.0",
            "_view_name": "LayoutView",
            "align_content": null,
            "align_items": null,
            "align_self": null,
            "border": null,
            "bottom": null,
            "display": null,
            "flex": null,
            "flex_flow": null,
            "grid_area": null,
            "grid_auto_columns": null,
            "grid_auto_flow": null,
            "grid_auto_rows": null,
            "grid_column": null,
            "grid_gap": null,
            "grid_row": null,
            "grid_template_areas": null,
            "grid_template_columns": null,
            "grid_template_rows": null,
            "height": null,
            "justify_content": null,
            "justify_items": null,
            "left": null,
            "margin": null,
            "max_height": null,
            "max_width": null,
            "min_height": null,
            "min_width": null,
            "object_fit": null,
            "object_position": null,
            "order": null,
            "overflow": null,
            "overflow_x": null,
            "overflow_y": null,
            "padding": null,
            "right": null,
            "top": null,
            "visibility": null,
            "width": null
          }
        },
        "0fceebc89d7d4ae384c3782b4253bf45": {
          "model_module": "@jupyter-widgets/controls",
          "model_name": "DescriptionStyleModel",
          "model_module_version": "1.5.0",
          "state": {
            "_model_module": "@jupyter-widgets/controls",
            "_model_module_version": "1.5.0",
            "_model_name": "DescriptionStyleModel",
            "_view_count": null,
            "_view_module": "@jupyter-widgets/base",
            "_view_module_version": "1.2.0",
            "_view_name": "StyleView",
            "description_width": ""
          }
        }
      }
    }
  },
  "nbformat": 4,
  "nbformat_minor": 0
}