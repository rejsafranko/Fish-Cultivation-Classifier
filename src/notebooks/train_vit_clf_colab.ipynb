{
 "cells": [
  {
   "attachments": {},
   "cell_type": "markdown",
   "metadata": {},
   "source": [
    "Imports"
   ]
  },
  {
   "cell_type": "code",
   "execution_count": 2,
   "metadata": {},
   "outputs": [],
   "source": [
    "import torch\n",
    "from torch.utils.data import DataLoader\n",
    "from datasets import load_dataset\n",
    "from argparse import ArgumentParser\n",
    "from pytorch_lightning import Trainer\n",
    "from pytorch_lightning.callbacks import EarlyStopping\n",
    "\n",
    "import pytorch_lightning as pl\n",
    "from transformers import ViTForImageClassification, AdamW\n",
    "import torch.nn as nn"
   ]
  },
  {
   "attachments": {},
   "cell_type": "markdown",
   "metadata": {},
   "source": [
    "### vitlightning.py"
   ]
  },
  {
   "cell_type": "code",
   "execution_count": 3,
   "metadata": {},
   "outputs": [],
   "source": [
    "class ViTLightningModule(pl.LightningModule):\n",
    "    def __init__(self, model_name, num_labels, id2label, label2id, dataloaders):\n",
    "        super(ViTLightningModule, self).__init__()\n",
    "        self.vit = ViTForImageClassification.from_pretrained(\n",
    "            model_name,\n",
    "            num_labels,\n",
    "            id2label,\n",
    "            label2id,\n",
    "        )\n",
    "        self.dataloaders = dataloaders\n",
    "\n",
    "    def forward(self, pixel_values):\n",
    "        outputs = self.vit(pixel_values=pixel_values)\n",
    "        return outputs.logits\n",
    "\n",
    "    def common_step(self, batch, batch_idx):\n",
    "        pixel_values = batch[\"pixel_values\"]\n",
    "        labels = batch[\"labels\"]\n",
    "        logits = self(pixel_values)\n",
    "\n",
    "        criterion = nn.CrossEntropyLoss()\n",
    "        loss = criterion(logits, labels)\n",
    "        predictions = logits.argmax(-1)\n",
    "        correct = (predictions == labels).sum().item()\n",
    "        accuracy = correct / pixel_values.shape[0]\n",
    "\n",
    "        return loss, accuracy\n",
    "\n",
    "    def training_step(self, batch, batch_idx):\n",
    "        loss, accuracy = self.common_step(batch, batch_idx)\n",
    "        self.log(\"training_loss\", loss)\n",
    "        self.log(\"training_accuracy\", accuracy)\n",
    "\n",
    "        return loss\n",
    "\n",
    "    def validation_step(self, batch, batch_idx):\n",
    "        loss, accuracy = self.common_step(batch, batch_idx)\n",
    "        self.log(\"validation_loss\", loss, on_epoch=True)\n",
    "        self.log(\"validation_accuracy\", accuracy, on_epoch=True)\n",
    "\n",
    "        return loss\n",
    "\n",
    "    def test_step(self, batch, batch_idx):\n",
    "        loss, accuracy = self.common_step(batch, batch_idx)\n",
    "\n",
    "        return loss\n",
    "\n",
    "    def configure_optimizers(self):\n",
    "        return AdamW(self.parameters(), lr=5e-5)\n",
    "\n",
    "    def train_dataloader(self):\n",
    "        return self.dataloaders[\"train\"]\n",
    "\n",
    "    def val_dataloader(self):\n",
    "        return self.dataloaders[\"val\"]\n",
    "\n",
    "    def test_dataloader(self):\n",
    "        return self.dataloaders[\"test\"]"
   ]
  },
  {
   "attachments": {},
   "cell_type": "markdown",
   "metadata": {},
   "source": [
    "### train_vit_clf.py"
   ]
  },
  {
   "cell_type": "code",
   "execution_count": null,
   "metadata": {},
   "outputs": [],
   "source": [
    "def create_dataloaders_and_mappings(data_path):\n",
    "    dataset = load_dataset(\"imagefolder\", data_dir=args.data_path)\n",
    "    splits = dataset[\"train\"].train_test_split(test_size=0.1)\n",
    "    dataset[\"train\"] = splits[\"train\"]\n",
    "    dataset[\"val\"] = splits[\"test\"]\n",
    "\n",
    "    id2label = {\n",
    "        id: label for id, label in enumerate(dataset[\"train\"].features[\"label\"].names)\n",
    "    }\n",
    "    label2id = {label: id for id, label in id2label.items()}\n",
    "\n",
    "    train_dataloader = DataLoader(dataset[\"train\"], shuffle=True, collate_fn=collate_fn)\n",
    "    val_dataloader = DataLoader(dataset[\"val\"], collate_fn=collate_fn)\n",
    "    test_dataloader = DataLoader(dataset[\"test\"], collate_fn=collate_fn)\n",
    "\n",
    "    dataloaders = {}\n",
    "    dataloaders[\"train\"] = train_dataloader\n",
    "    dataloaders[\"val\"] = val_dataloader\n",
    "    dataloaders[\"test\"] = test_dataloader\n",
    "\n",
    "    return dataloaders, id2label, label2id\n",
    "\n",
    "\n",
    "def collate_fn(examples):\n",
    "    pixel_values = torch.stack([example[\"pixel_values\"] for example in examples])\n",
    "    labels = torch.tensor([example[\"label\"] for example in examples])\n",
    "    return {\"pixel_values\": pixel_values, \"labels\": labels}\n",
    "\n",
    "def main():\n",
    "    colab_data_path = \"\"\n",
    "    colab_dir = \"\"\n",
    "    model_id = \"\"\n",
    "    dataloaders, id2label, label2id = create_dataloaders_and_mappings()\n",
    "    num_labels = len(id2label)\n",
    "\n",
    "    early_stop_callback = EarlyStopping(\n",
    "        monitor=\"val_loss\", patience=3, strict=False, verbose=False, mode=\"min\"\n",
    "    )\n",
    "\n",
    "    model = ViTLightningModule(\n",
    "        model_id, num_labels, id2label, label2id, dataloaders\n",
    "    )\n",
    "\n",
    "    # model = ViTLightningModule.load_from_checkpoint(\"/path/to/checkpoint.ckpt\")\n",
    "\n",
    "    trainer = Trainer(\n",
    "        gpus=1, callbacks=early_stop_callback, default_root_dir=colab_dir\n",
    "    )\n",
    "\n",
    "    trainer.fit()\n",
    "    trainer.test()"
   ]
  },
  {
   "attachments": {},
   "cell_type": "markdown",
   "metadata": {},
   "source": [
    "### Experiment"
   ]
  },
  {
   "cell_type": "code",
   "execution_count": null,
   "metadata": {},
   "outputs": [],
   "source": [
    "main()"
   ]
  }
 ],
 "metadata": {
  "kernelspec": {
   "display_name": "Python 3",
   "language": "python",
   "name": "python3"
  },
  "language_info": {
   "codemirror_mode": {
    "name": "ipython",
    "version": 3
   },
   "file_extension": ".py",
   "mimetype": "text/x-python",
   "name": "python",
   "nbconvert_exporter": "python",
   "pygments_lexer": "ipython3",
   "version": "3.10.9"
  },
  "orig_nbformat": 4
 },
 "nbformat": 4,
 "nbformat_minor": 2
}
